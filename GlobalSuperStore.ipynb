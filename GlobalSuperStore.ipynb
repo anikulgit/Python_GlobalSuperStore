{
  "cells": [
    {
      "cell_type": "markdown",
      "metadata": {
        "id": "view-in-github",
        "colab_type": "text"
      },
      "source": [
        "<a href=\"https://colab.research.google.com/github/anikulgit/Python_GlobalSuperStore/blob/main/GlobalSuperStore.ipynb\" target=\"_parent\"><img src=\"https://colab.research.google.com/assets/colab-badge.svg\" alt=\"Open In Colab\"/></a>"
      ]
    },
    {
      "cell_type": "code",
      "execution_count": null,
      "metadata": {
        "id": "_r4vbVPodR1n"
      },
      "outputs": [],
      "source": [
        "# importing basic libraries\n",
        "import numpy as np\n",
        "import pandas as pd\n",
        "import seaborn as sns\n",
        "import matplotlib.pyplot as plt\n",
        "import scipy.stats as stats"
      ]
    },
    {
      "cell_type": "code",
      "execution_count": null,
      "metadata": {
        "colab": {
          "base_uri": "https://localhost:8080/"
        },
        "id": "P9klijXHTp7P",
        "outputId": "47ef0063-51ec-44bf-e22e-6570e9a989e8"
      },
      "outputs": [
        {
          "output_type": "stream",
          "name": "stdout",
          "text": [
            "Mounted at /content/gdrive\n"
          ]
        }
      ],
      "source": [
        "# mounting google drive to colab\n",
        "from google.colab import drive\n",
        "drive.mount('/content/gdrive') #Connecting to google Drive folder"
      ]
    },
    {
      "cell_type": "code",
      "execution_count": null,
      "metadata": {
        "id": "urtVbbN2diB_"
      },
      "outputs": [],
      "source": [
        "# creating dataset form excel file\n",
        "gstor=pd.read_excel('/content/gdrive/My Drive/Colab Notebooks/GlobalSuperStore/global_superstore.xlsx')"
      ]
    },
    {
      "cell_type": "code",
      "execution_count": null,
      "metadata": {
        "colab": {
          "base_uri": "https://localhost:8080/",
          "height": 568
        },
        "id": "o3hKWKAhfMGk",
        "outputId": "62e2a6dd-c22e-4656-ef40-83e66241bdc0"
      },
      "outputs": [
        {
          "output_type": "execute_result",
          "data": {
            "text/plain": [
              "   Row ID                  Order ID Order Date  Ship Date     Ship Mode  \\\n",
              "0   40098  CA-2014-AB10015140-41954 2014-11-11 2014-11-13   First Class   \n",
              "1   26341    IN-2014-JR162107-41675 2014-02-05 2014-02-07  Second Class   \n",
              "2   25330    IN-2014-CR127307-41929 2014-10-17 2014-10-18   First Class   \n",
              "3   13524   ES-2014-KM1637548-41667 2014-01-28 2014-01-30   First Class   \n",
              "4   47221   SG-2014-RH9495111-41948 2014-11-05 2014-11-06      Same Day   \n",
              "\n",
              "    Customer ID     Customer Name      Segment  Postal Code           City  \\\n",
              "0  AB-100151402     Aaron Bergman     Consumer      73120.0  Oklahoma City   \n",
              "1     JR-162107     Justin Ritter    Corporate          NaN     Wollongong   \n",
              "2     CR-127307      Craig Reiter     Consumer          NaN       Brisbane   \n",
              "3    KM-1637548  Katherine Murray  Home Office          NaN         Berlin   \n",
              "4    RH-9495111       Rick Hansen     Consumer          NaN          Dakar   \n",
              "\n",
              "   ...   Product ID    Category Sub-Category  \\\n",
              "0  ...  TEC-PH-5816  Technology       Phones   \n",
              "1  ...  FUR-CH-5379   Furniture       Chairs   \n",
              "2  ...  TEC-PH-5356  Technology       Phones   \n",
              "3  ...  TEC-PH-5267  Technology       Phones   \n",
              "4  ...  TEC-CO-6011  Technology      Copiers   \n",
              "\n",
              "                                Product Name     Sales Quantity Discount  \\\n",
              "0                           Samsung Convoy 3   221.980        2      0.0   \n",
              "1  Novimex Executive Leather Armchair, Black  3709.395        9      0.1   \n",
              "2          Nokia Smart Phone, with Caller ID  5175.171        9      0.1   \n",
              "3             Motorola Smart Phone, Cordless  2892.510        5      0.1   \n",
              "4             Sharp Wireless Fax, High-Speed  2832.960        8      0.0   \n",
              "\n",
              "     Profit  Shipping Cost  Order Priority  \n",
              "0   62.1544          40.77            High  \n",
              "1 -288.7650         923.63        Critical  \n",
              "2  919.9710         915.49          Medium  \n",
              "3  -96.5400         910.16          Medium  \n",
              "4  311.5200         903.04        Critical  \n",
              "\n",
              "[5 rows x 24 columns]"
            ],
            "text/html": [
              "\n",
              "  <div id=\"df-1c5dc8de-8e95-472f-9e74-9c0df6c66eb6\" class=\"colab-df-container\">\n",
              "    <div>\n",
              "<style scoped>\n",
              "    .dataframe tbody tr th:only-of-type {\n",
              "        vertical-align: middle;\n",
              "    }\n",
              "\n",
              "    .dataframe tbody tr th {\n",
              "        vertical-align: top;\n",
              "    }\n",
              "\n",
              "    .dataframe thead th {\n",
              "        text-align: right;\n",
              "    }\n",
              "</style>\n",
              "<table border=\"1\" class=\"dataframe\">\n",
              "  <thead>\n",
              "    <tr style=\"text-align: right;\">\n",
              "      <th></th>\n",
              "      <th>Row ID</th>\n",
              "      <th>Order ID</th>\n",
              "      <th>Order Date</th>\n",
              "      <th>Ship Date</th>\n",
              "      <th>Ship Mode</th>\n",
              "      <th>Customer ID</th>\n",
              "      <th>Customer Name</th>\n",
              "      <th>Segment</th>\n",
              "      <th>Postal Code</th>\n",
              "      <th>City</th>\n",
              "      <th>...</th>\n",
              "      <th>Product ID</th>\n",
              "      <th>Category</th>\n",
              "      <th>Sub-Category</th>\n",
              "      <th>Product Name</th>\n",
              "      <th>Sales</th>\n",
              "      <th>Quantity</th>\n",
              "      <th>Discount</th>\n",
              "      <th>Profit</th>\n",
              "      <th>Shipping Cost</th>\n",
              "      <th>Order Priority</th>\n",
              "    </tr>\n",
              "  </thead>\n",
              "  <tbody>\n",
              "    <tr>\n",
              "      <th>0</th>\n",
              "      <td>40098</td>\n",
              "      <td>CA-2014-AB10015140-41954</td>\n",
              "      <td>2014-11-11</td>\n",
              "      <td>2014-11-13</td>\n",
              "      <td>First Class</td>\n",
              "      <td>AB-100151402</td>\n",
              "      <td>Aaron Bergman</td>\n",
              "      <td>Consumer</td>\n",
              "      <td>73120.0</td>\n",
              "      <td>Oklahoma City</td>\n",
              "      <td>...</td>\n",
              "      <td>TEC-PH-5816</td>\n",
              "      <td>Technology</td>\n",
              "      <td>Phones</td>\n",
              "      <td>Samsung Convoy 3</td>\n",
              "      <td>221.980</td>\n",
              "      <td>2</td>\n",
              "      <td>0.0</td>\n",
              "      <td>62.1544</td>\n",
              "      <td>40.77</td>\n",
              "      <td>High</td>\n",
              "    </tr>\n",
              "    <tr>\n",
              "      <th>1</th>\n",
              "      <td>26341</td>\n",
              "      <td>IN-2014-JR162107-41675</td>\n",
              "      <td>2014-02-05</td>\n",
              "      <td>2014-02-07</td>\n",
              "      <td>Second Class</td>\n",
              "      <td>JR-162107</td>\n",
              "      <td>Justin Ritter</td>\n",
              "      <td>Corporate</td>\n",
              "      <td>NaN</td>\n",
              "      <td>Wollongong</td>\n",
              "      <td>...</td>\n",
              "      <td>FUR-CH-5379</td>\n",
              "      <td>Furniture</td>\n",
              "      <td>Chairs</td>\n",
              "      <td>Novimex Executive Leather Armchair, Black</td>\n",
              "      <td>3709.395</td>\n",
              "      <td>9</td>\n",
              "      <td>0.1</td>\n",
              "      <td>-288.7650</td>\n",
              "      <td>923.63</td>\n",
              "      <td>Critical</td>\n",
              "    </tr>\n",
              "    <tr>\n",
              "      <th>2</th>\n",
              "      <td>25330</td>\n",
              "      <td>IN-2014-CR127307-41929</td>\n",
              "      <td>2014-10-17</td>\n",
              "      <td>2014-10-18</td>\n",
              "      <td>First Class</td>\n",
              "      <td>CR-127307</td>\n",
              "      <td>Craig Reiter</td>\n",
              "      <td>Consumer</td>\n",
              "      <td>NaN</td>\n",
              "      <td>Brisbane</td>\n",
              "      <td>...</td>\n",
              "      <td>TEC-PH-5356</td>\n",
              "      <td>Technology</td>\n",
              "      <td>Phones</td>\n",
              "      <td>Nokia Smart Phone, with Caller ID</td>\n",
              "      <td>5175.171</td>\n",
              "      <td>9</td>\n",
              "      <td>0.1</td>\n",
              "      <td>919.9710</td>\n",
              "      <td>915.49</td>\n",
              "      <td>Medium</td>\n",
              "    </tr>\n",
              "    <tr>\n",
              "      <th>3</th>\n",
              "      <td>13524</td>\n",
              "      <td>ES-2014-KM1637548-41667</td>\n",
              "      <td>2014-01-28</td>\n",
              "      <td>2014-01-30</td>\n",
              "      <td>First Class</td>\n",
              "      <td>KM-1637548</td>\n",
              "      <td>Katherine Murray</td>\n",
              "      <td>Home Office</td>\n",
              "      <td>NaN</td>\n",
              "      <td>Berlin</td>\n",
              "      <td>...</td>\n",
              "      <td>TEC-PH-5267</td>\n",
              "      <td>Technology</td>\n",
              "      <td>Phones</td>\n",
              "      <td>Motorola Smart Phone, Cordless</td>\n",
              "      <td>2892.510</td>\n",
              "      <td>5</td>\n",
              "      <td>0.1</td>\n",
              "      <td>-96.5400</td>\n",
              "      <td>910.16</td>\n",
              "      <td>Medium</td>\n",
              "    </tr>\n",
              "    <tr>\n",
              "      <th>4</th>\n",
              "      <td>47221</td>\n",
              "      <td>SG-2014-RH9495111-41948</td>\n",
              "      <td>2014-11-05</td>\n",
              "      <td>2014-11-06</td>\n",
              "      <td>Same Day</td>\n",
              "      <td>RH-9495111</td>\n",
              "      <td>Rick Hansen</td>\n",
              "      <td>Consumer</td>\n",
              "      <td>NaN</td>\n",
              "      <td>Dakar</td>\n",
              "      <td>...</td>\n",
              "      <td>TEC-CO-6011</td>\n",
              "      <td>Technology</td>\n",
              "      <td>Copiers</td>\n",
              "      <td>Sharp Wireless Fax, High-Speed</td>\n",
              "      <td>2832.960</td>\n",
              "      <td>8</td>\n",
              "      <td>0.0</td>\n",
              "      <td>311.5200</td>\n",
              "      <td>903.04</td>\n",
              "      <td>Critical</td>\n",
              "    </tr>\n",
              "  </tbody>\n",
              "</table>\n",
              "<p>5 rows × 24 columns</p>\n",
              "</div>\n",
              "    <div class=\"colab-df-buttons\">\n",
              "\n",
              "  <div class=\"colab-df-container\">\n",
              "    <button class=\"colab-df-convert\" onclick=\"convertToInteractive('df-1c5dc8de-8e95-472f-9e74-9c0df6c66eb6')\"\n",
              "            title=\"Convert this dataframe to an interactive table.\"\n",
              "            style=\"display:none;\">\n",
              "\n",
              "  <svg xmlns=\"http://www.w3.org/2000/svg\" height=\"24px\" viewBox=\"0 -960 960 960\">\n",
              "    <path d=\"M120-120v-720h720v720H120Zm60-500h600v-160H180v160Zm220 220h160v-160H400v160Zm0 220h160v-160H400v160ZM180-400h160v-160H180v160Zm440 0h160v-160H620v160ZM180-180h160v-160H180v160Zm440 0h160v-160H620v160Z\"/>\n",
              "  </svg>\n",
              "    </button>\n",
              "\n",
              "  <style>\n",
              "    .colab-df-container {\n",
              "      display:flex;\n",
              "      gap: 12px;\n",
              "    }\n",
              "\n",
              "    .colab-df-convert {\n",
              "      background-color: #E8F0FE;\n",
              "      border: none;\n",
              "      border-radius: 50%;\n",
              "      cursor: pointer;\n",
              "      display: none;\n",
              "      fill: #1967D2;\n",
              "      height: 32px;\n",
              "      padding: 0 0 0 0;\n",
              "      width: 32px;\n",
              "    }\n",
              "\n",
              "    .colab-df-convert:hover {\n",
              "      background-color: #E2EBFA;\n",
              "      box-shadow: 0px 1px 2px rgba(60, 64, 67, 0.3), 0px 1px 3px 1px rgba(60, 64, 67, 0.15);\n",
              "      fill: #174EA6;\n",
              "    }\n",
              "\n",
              "    .colab-df-buttons div {\n",
              "      margin-bottom: 4px;\n",
              "    }\n",
              "\n",
              "    [theme=dark] .colab-df-convert {\n",
              "      background-color: #3B4455;\n",
              "      fill: #D2E3FC;\n",
              "    }\n",
              "\n",
              "    [theme=dark] .colab-df-convert:hover {\n",
              "      background-color: #434B5C;\n",
              "      box-shadow: 0px 1px 3px 1px rgba(0, 0, 0, 0.15);\n",
              "      filter: drop-shadow(0px 1px 2px rgba(0, 0, 0, 0.3));\n",
              "      fill: #FFFFFF;\n",
              "    }\n",
              "  </style>\n",
              "\n",
              "    <script>\n",
              "      const buttonEl =\n",
              "        document.querySelector('#df-1c5dc8de-8e95-472f-9e74-9c0df6c66eb6 button.colab-df-convert');\n",
              "      buttonEl.style.display =\n",
              "        google.colab.kernel.accessAllowed ? 'block' : 'none';\n",
              "\n",
              "      async function convertToInteractive(key) {\n",
              "        const element = document.querySelector('#df-1c5dc8de-8e95-472f-9e74-9c0df6c66eb6');\n",
              "        const dataTable =\n",
              "          await google.colab.kernel.invokeFunction('convertToInteractive',\n",
              "                                                    [key], {});\n",
              "        if (!dataTable) return;\n",
              "\n",
              "        const docLinkHtml = 'Like what you see? Visit the ' +\n",
              "          '<a target=\"_blank\" href=https://colab.research.google.com/notebooks/data_table.ipynb>data table notebook</a>'\n",
              "          + ' to learn more about interactive tables.';\n",
              "        element.innerHTML = '';\n",
              "        dataTable['output_type'] = 'display_data';\n",
              "        await google.colab.output.renderOutput(dataTable, element);\n",
              "        const docLink = document.createElement('div');\n",
              "        docLink.innerHTML = docLinkHtml;\n",
              "        element.appendChild(docLink);\n",
              "      }\n",
              "    </script>\n",
              "  </div>\n",
              "\n",
              "\n",
              "<div id=\"df-831a759e-dfca-465d-929c-de8b3343113d\">\n",
              "  <button class=\"colab-df-quickchart\" onclick=\"quickchart('df-831a759e-dfca-465d-929c-de8b3343113d')\"\n",
              "            title=\"Suggest charts\"\n",
              "            style=\"display:none;\">\n",
              "\n",
              "<svg xmlns=\"http://www.w3.org/2000/svg\" height=\"24px\"viewBox=\"0 0 24 24\"\n",
              "     width=\"24px\">\n",
              "    <g>\n",
              "        <path d=\"M19 3H5c-1.1 0-2 .9-2 2v14c0 1.1.9 2 2 2h14c1.1 0 2-.9 2-2V5c0-1.1-.9-2-2-2zM9 17H7v-7h2v7zm4 0h-2V7h2v10zm4 0h-2v-4h2v4z\"/>\n",
              "    </g>\n",
              "</svg>\n",
              "  </button>\n",
              "\n",
              "<style>\n",
              "  .colab-df-quickchart {\n",
              "      --bg-color: #E8F0FE;\n",
              "      --fill-color: #1967D2;\n",
              "      --hover-bg-color: #E2EBFA;\n",
              "      --hover-fill-color: #174EA6;\n",
              "      --disabled-fill-color: #AAA;\n",
              "      --disabled-bg-color: #DDD;\n",
              "  }\n",
              "\n",
              "  [theme=dark] .colab-df-quickchart {\n",
              "      --bg-color: #3B4455;\n",
              "      --fill-color: #D2E3FC;\n",
              "      --hover-bg-color: #434B5C;\n",
              "      --hover-fill-color: #FFFFFF;\n",
              "      --disabled-bg-color: #3B4455;\n",
              "      --disabled-fill-color: #666;\n",
              "  }\n",
              "\n",
              "  .colab-df-quickchart {\n",
              "    background-color: var(--bg-color);\n",
              "    border: none;\n",
              "    border-radius: 50%;\n",
              "    cursor: pointer;\n",
              "    display: none;\n",
              "    fill: var(--fill-color);\n",
              "    height: 32px;\n",
              "    padding: 0;\n",
              "    width: 32px;\n",
              "  }\n",
              "\n",
              "  .colab-df-quickchart:hover {\n",
              "    background-color: var(--hover-bg-color);\n",
              "    box-shadow: 0 1px 2px rgba(60, 64, 67, 0.3), 0 1px 3px 1px rgba(60, 64, 67, 0.15);\n",
              "    fill: var(--button-hover-fill-color);\n",
              "  }\n",
              "\n",
              "  .colab-df-quickchart-complete:disabled,\n",
              "  .colab-df-quickchart-complete:disabled:hover {\n",
              "    background-color: var(--disabled-bg-color);\n",
              "    fill: var(--disabled-fill-color);\n",
              "    box-shadow: none;\n",
              "  }\n",
              "\n",
              "  .colab-df-spinner {\n",
              "    border: 2px solid var(--fill-color);\n",
              "    border-color: transparent;\n",
              "    border-bottom-color: var(--fill-color);\n",
              "    animation:\n",
              "      spin 1s steps(1) infinite;\n",
              "  }\n",
              "\n",
              "  @keyframes spin {\n",
              "    0% {\n",
              "      border-color: transparent;\n",
              "      border-bottom-color: var(--fill-color);\n",
              "      border-left-color: var(--fill-color);\n",
              "    }\n",
              "    20% {\n",
              "      border-color: transparent;\n",
              "      border-left-color: var(--fill-color);\n",
              "      border-top-color: var(--fill-color);\n",
              "    }\n",
              "    30% {\n",
              "      border-color: transparent;\n",
              "      border-left-color: var(--fill-color);\n",
              "      border-top-color: var(--fill-color);\n",
              "      border-right-color: var(--fill-color);\n",
              "    }\n",
              "    40% {\n",
              "      border-color: transparent;\n",
              "      border-right-color: var(--fill-color);\n",
              "      border-top-color: var(--fill-color);\n",
              "    }\n",
              "    60% {\n",
              "      border-color: transparent;\n",
              "      border-right-color: var(--fill-color);\n",
              "    }\n",
              "    80% {\n",
              "      border-color: transparent;\n",
              "      border-right-color: var(--fill-color);\n",
              "      border-bottom-color: var(--fill-color);\n",
              "    }\n",
              "    90% {\n",
              "      border-color: transparent;\n",
              "      border-bottom-color: var(--fill-color);\n",
              "    }\n",
              "  }\n",
              "</style>\n",
              "\n",
              "  <script>\n",
              "    async function quickchart(key) {\n",
              "      const quickchartButtonEl =\n",
              "        document.querySelector('#' + key + ' button');\n",
              "      quickchartButtonEl.disabled = true;  // To prevent multiple clicks.\n",
              "      quickchartButtonEl.classList.add('colab-df-spinner');\n",
              "      try {\n",
              "        const charts = await google.colab.kernel.invokeFunction(\n",
              "            'suggestCharts', [key], {});\n",
              "      } catch (error) {\n",
              "        console.error('Error during call to suggestCharts:', error);\n",
              "      }\n",
              "      quickchartButtonEl.classList.remove('colab-df-spinner');\n",
              "      quickchartButtonEl.classList.add('colab-df-quickchart-complete');\n",
              "    }\n",
              "    (() => {\n",
              "      let quickchartButtonEl =\n",
              "        document.querySelector('#df-831a759e-dfca-465d-929c-de8b3343113d button');\n",
              "      quickchartButtonEl.style.display =\n",
              "        google.colab.kernel.accessAllowed ? 'block' : 'none';\n",
              "    })();\n",
              "  </script>\n",
              "</div>\n",
              "\n",
              "    </div>\n",
              "  </div>\n"
            ],
            "application/vnd.google.colaboratory.intrinsic+json": {
              "type": "dataframe",
              "variable_name": "gstor"
            }
          },
          "metadata": {},
          "execution_count": 4
        }
      ],
      "source": [
        "#just having a head() watch on data\n",
        "gstor.head()"
      ]
    },
    {
      "cell_type": "code",
      "execution_count": null,
      "metadata": {
        "colab": {
          "base_uri": "https://localhost:8080/"
        },
        "id": "hSvihG-X1oUY",
        "outputId": "2d69a620-7007-44bf-b7cb-38d753061e97"
      },
      "outputs": [
        {
          "output_type": "execute_result",
          "data": {
            "text/plain": [
              "Row ID                0\n",
              "Order ID              0\n",
              "Order Date            0\n",
              "Ship Date             0\n",
              "Ship Mode             0\n",
              "Customer ID           0\n",
              "Customer Name         0\n",
              "Segment               0\n",
              "Postal Code       41296\n",
              "City                  0\n",
              "State                 0\n",
              "Country               0\n",
              "Region                0\n",
              "Market                0\n",
              "Product ID            0\n",
              "Category              0\n",
              "Sub-Category          0\n",
              "Product Name          0\n",
              "Sales                 0\n",
              "Quantity              0\n",
              "Discount              0\n",
              "Profit                0\n",
              "Shipping Cost         0\n",
              "Order Priority        0\n",
              "dtype: int64"
            ]
          },
          "metadata": {},
          "execution_count": 5
        }
      ],
      "source": [
        "# checking for total null values under each heading / column\n",
        "gstor.isnull().sum()"
      ]
    },
    {
      "cell_type": "code",
      "execution_count": null,
      "metadata": {
        "colab": {
          "base_uri": "https://localhost:8080/"
        },
        "id": "08E6aeWO3Dyk",
        "outputId": "482d5bfe-7ea6-4343-b8d9-cfcaac20e7b7"
      },
      "outputs": [
        {
          "output_type": "execute_result",
          "data": {
            "text/plain": [
              "Row ID                     int64\n",
              "Order ID                  object\n",
              "Order Date        datetime64[ns]\n",
              "Ship Date         datetime64[ns]\n",
              "Ship Mode                 object\n",
              "Customer ID               object\n",
              "Customer Name             object\n",
              "Segment                   object\n",
              "Postal Code              float64\n",
              "City                      object\n",
              "State                     object\n",
              "Country                   object\n",
              "Region                    object\n",
              "Market                    object\n",
              "Product ID                object\n",
              "Category                  object\n",
              "Sub-Category              object\n",
              "Product Name              object\n",
              "Sales                    float64\n",
              "Quantity                   int64\n",
              "Discount                 float64\n",
              "Profit                   float64\n",
              "Shipping Cost            float64\n",
              "Order Priority            object\n",
              "dtype: object"
            ]
          },
          "metadata": {},
          "execution_count": 6
        }
      ],
      "source": [
        "# checking for the datatypes of all columns, specially order date & ship date for proper date format and sales, quantity etc. for number type\n",
        "#converting to appropriate datatype if needed.\n",
        "gstor.dtypes"
      ]
    },
    {
      "cell_type": "code",
      "execution_count": null,
      "metadata": {
        "id": "pUD5DZ1PAQmK"
      },
      "outputs": [],
      "source": [
        "# Creating a comumn for year only\n",
        "gstor['Order Year']= gstor['Order Date'].dt.year"
      ]
    },
    {
      "cell_type": "code",
      "execution_count": null,
      "metadata": {
        "colab": {
          "base_uri": "https://localhost:8080/"
        },
        "id": "Flh9UbryBth7",
        "outputId": "eb9e8be5-c380-4204-df06-8fb3f56ed257"
      },
      "outputs": [
        {
          "output_type": "execute_result",
          "data": {
            "text/plain": [
              "Row ID                     int64\n",
              "Order ID                  object\n",
              "Order Date        datetime64[ns]\n",
              "Ship Date         datetime64[ns]\n",
              "Ship Mode                 object\n",
              "Customer ID               object\n",
              "Customer Name             object\n",
              "Segment                   object\n",
              "Postal Code              float64\n",
              "City                      object\n",
              "State                     object\n",
              "Country                   object\n",
              "Region                    object\n",
              "Market                    object\n",
              "Product ID                object\n",
              "Category                  object\n",
              "Sub-Category              object\n",
              "Product Name              object\n",
              "Sales                    float64\n",
              "Quantity                   int64\n",
              "Discount                 float64\n",
              "Profit                   float64\n",
              "Shipping Cost            float64\n",
              "Order Priority            object\n",
              "Order Year                 int32\n",
              "dtype: object"
            ]
          },
          "metadata": {},
          "execution_count": 8
        }
      ],
      "source": [
        "# checking for created column\n",
        "gstor.dtypes"
      ]
    },
    {
      "cell_type": "code",
      "execution_count": null,
      "metadata": {
        "id": "SJ16_x1LB7H3"
      },
      "outputs": [],
      "source": [
        "gstor['Order Year']=pd.to_datetime(gstor['Order Year'])"
      ]
    },
    {
      "cell_type": "code",
      "execution_count": null,
      "metadata": {
        "colab": {
          "base_uri": "https://localhost:8080/"
        },
        "id": "qwsY6vKlCXom",
        "outputId": "c7939d59-0709-45fd-fe47-83d1f3b56680"
      },
      "outputs": [
        {
          "output_type": "execute_result",
          "data": {
            "text/plain": [
              "Row ID                     int64\n",
              "Order ID                  object\n",
              "Order Date        datetime64[ns]\n",
              "Ship Date         datetime64[ns]\n",
              "Ship Mode                 object\n",
              "Customer ID               object\n",
              "Customer Name             object\n",
              "Segment                   object\n",
              "Postal Code              float64\n",
              "City                      object\n",
              "State                     object\n",
              "Country                   object\n",
              "Region                    object\n",
              "Market                    object\n",
              "Product ID                object\n",
              "Category                  object\n",
              "Sub-Category              object\n",
              "Product Name              object\n",
              "Sales                    float64\n",
              "Quantity                   int64\n",
              "Discount                 float64\n",
              "Profit                   float64\n",
              "Shipping Cost            float64\n",
              "Order Priority            object\n",
              "Order Year        datetime64[ns]\n",
              "dtype: object"
            ]
          },
          "metadata": {},
          "execution_count": 10
        }
      ],
      "source": [
        "gstor.dtypes"
      ]
    },
    {
      "cell_type": "code",
      "execution_count": null,
      "metadata": {
        "colab": {
          "base_uri": "https://localhost:8080/"
        },
        "id": "l-wqplpaCbOl",
        "outputId": "af02f278-88ab-436a-ea37-830491e9f1f4"
      },
      "outputs": [
        {
          "output_type": "stream",
          "name": "stdout",
          "text": [
            "<class 'pandas.core.frame.DataFrame'>\n",
            "RangeIndex: 51290 entries, 0 to 51289\n",
            "Data columns (total 25 columns):\n",
            " #   Column          Non-Null Count  Dtype         \n",
            "---  ------          --------------  -----         \n",
            " 0   Row ID          51290 non-null  int64         \n",
            " 1   Order ID        51290 non-null  object        \n",
            " 2   Order Date      51290 non-null  datetime64[ns]\n",
            " 3   Ship Date       51290 non-null  datetime64[ns]\n",
            " 4   Ship Mode       51290 non-null  object        \n",
            " 5   Customer ID     51290 non-null  object        \n",
            " 6   Customer Name   51290 non-null  object        \n",
            " 7   Segment         51290 non-null  object        \n",
            " 8   Postal Code     9994 non-null   float64       \n",
            " 9   City            51290 non-null  object        \n",
            " 10  State           51290 non-null  object        \n",
            " 11  Country         51290 non-null  object        \n",
            " 12  Region          51290 non-null  object        \n",
            " 13  Market          51290 non-null  object        \n",
            " 14  Product ID      51290 non-null  object        \n",
            " 15  Category        51290 non-null  object        \n",
            " 16  Sub-Category    51290 non-null  object        \n",
            " 17  Product Name    51290 non-null  object        \n",
            " 18  Sales           51290 non-null  float64       \n",
            " 19  Quantity        51290 non-null  int64         \n",
            " 20  Discount        51290 non-null  float64       \n",
            " 21  Profit          51290 non-null  float64       \n",
            " 22  Shipping Cost   51290 non-null  float64       \n",
            " 23  Order Priority  51290 non-null  object        \n",
            " 24  Order Year      51290 non-null  datetime64[ns]\n",
            "dtypes: datetime64[ns](3), float64(5), int64(2), object(15)\n",
            "memory usage: 9.8+ MB\n"
          ]
        }
      ],
      "source": [
        "#checking the Head again before starting the data operations.\n",
        "gstor.info()"
      ]
    },
    {
      "cell_type": "markdown",
      "source": [
        "Lets split the data in two datasets, one contian the numeric and another contians categorical data."
      ],
      "metadata": {
        "id": "7ANwXwKok-N-"
      }
    },
    {
      "cell_type": "code",
      "execution_count": null,
      "metadata": {
        "id": "vCRvxsnwV16j"
      },
      "outputs": [],
      "source": [
        "# creating the new dataset which contain numerical comumns only\n",
        "gstor_num= gstor.select_dtypes(include=np.number)"
      ]
    },
    {
      "cell_type": "code",
      "source": [
        "# remove Row ID, postal code, as they contains lots of null values.\n",
        "gstor_num.drop(['Row ID'], axis=1, inplace=True)\n",
        "gstor_num.drop(['Postal Code'],  axis=1, inplace=True)"
      ],
      "metadata": {
        "id": "wz8R3kDdUWd_"
      },
      "execution_count": null,
      "outputs": []
    },
    {
      "cell_type": "code",
      "source": [
        "gstor_num.info()"
      ],
      "metadata": {
        "colab": {
          "base_uri": "https://localhost:8080/"
        },
        "id": "CgFUvJpJDlsY",
        "outputId": "4860f78b-efe5-43c1-e282-2b11091c0fc0"
      },
      "execution_count": null,
      "outputs": [
        {
          "output_type": "stream",
          "name": "stdout",
          "text": [
            "<class 'pandas.core.frame.DataFrame'>\n",
            "RangeIndex: 51290 entries, 0 to 51289\n",
            "Data columns (total 5 columns):\n",
            " #   Column         Non-Null Count  Dtype  \n",
            "---  ------         --------------  -----  \n",
            " 0   Sales          51290 non-null  float64\n",
            " 1   Quantity       51290 non-null  int64  \n",
            " 2   Discount       51290 non-null  float64\n",
            " 3   Profit         51290 non-null  float64\n",
            " 4   Shipping Cost  51290 non-null  float64\n",
            "dtypes: float64(4), int64(1)\n",
            "memory usage: 2.0 MB\n"
          ]
        }
      ]
    },
    {
      "cell_type": "code",
      "source": [
        "# creating the separate dataset for oject / categorical dataset\n",
        "gstor_cat = gstor.select_dtypes(include=[object])"
      ],
      "metadata": {
        "id": "V6d5uk7jlM_d"
      },
      "execution_count": null,
      "outputs": []
    },
    {
      "cell_type": "code",
      "source": [
        "gstor_cat.info()"
      ],
      "metadata": {
        "colab": {
          "base_uri": "https://localhost:8080/"
        },
        "id": "q_NdJ17OsL9T",
        "outputId": "2d4bfbff-e230-474d-8d23-d97159216a73"
      },
      "execution_count": null,
      "outputs": [
        {
          "output_type": "stream",
          "name": "stdout",
          "text": [
            "<class 'pandas.core.frame.DataFrame'>\n",
            "RangeIndex: 51290 entries, 0 to 51289\n",
            "Data columns (total 15 columns):\n",
            " #   Column          Non-Null Count  Dtype \n",
            "---  ------          --------------  ----- \n",
            " 0   Order ID        51290 non-null  object\n",
            " 1   Ship Mode       51290 non-null  object\n",
            " 2   Customer ID     51290 non-null  object\n",
            " 3   Customer Name   51290 non-null  object\n",
            " 4   Segment         51290 non-null  object\n",
            " 5   City            51290 non-null  object\n",
            " 6   State           51290 non-null  object\n",
            " 7   Country         51290 non-null  object\n",
            " 8   Region          51290 non-null  object\n",
            " 9   Market          51290 non-null  object\n",
            " 10  Product ID      51290 non-null  object\n",
            " 11  Category        51290 non-null  object\n",
            " 12  Sub-Category    51290 non-null  object\n",
            " 13  Product Name    51290 non-null  object\n",
            " 14  Order Priority  51290 non-null  object\n",
            "dtypes: object(15)\n",
            "memory usage: 5.9+ MB\n"
          ]
        }
      ]
    },
    {
      "cell_type": "code",
      "source": [
        "#chehck for zeros or null\n",
        "gstor_num.isnull().sum()"
      ],
      "metadata": {
        "colab": {
          "base_uri": "https://localhost:8080/"
        },
        "id": "UcEIoDUyH14C",
        "outputId": "6181a29a-e9f4-4a0d-e462-272192f6dd4c"
      },
      "execution_count": null,
      "outputs": [
        {
          "output_type": "execute_result",
          "data": {
            "text/plain": [
              "Sales            0\n",
              "Quantity         0\n",
              "Discount         0\n",
              "Profit           0\n",
              "Shipping Cost    0\n",
              "dtype: int64"
            ]
          },
          "metadata": {},
          "execution_count": 17
        }
      ]
    },
    {
      "cell_type": "code",
      "execution_count": null,
      "metadata": {
        "id": "IWTtSEioa9Hq"
      },
      "outputs": [],
      "source": [
        "# checking the data distribution of numeric columns"
      ]
    },
    {
      "cell_type": "code",
      "execution_count": null,
      "metadata": {
        "colab": {
          "base_uri": "https://localhost:8080/"
        },
        "id": "5G57vd2RIOUd",
        "outputId": "9c6b3347-5318-4fac-8478-f891e1579343"
      },
      "outputs": [
        {
          "output_type": "stream",
          "name": "stdout",
          "text": [
            "\n",
            "Sales\n",
            " Skew 8.13808002122054\n",
            "\n",
            "Quantity\n",
            " Skew 1.3603677307024202\n",
            "\n",
            "Discount\n",
            " Skew 1.3877745521338385\n",
            "\n",
            "Profit\n",
            " Skew 4.157188532777363\n",
            "\n",
            "Shipping Cost\n",
            " Skew 5.872860637018437\n"
          ]
        }
      ],
      "source": [
        "for cols in gstor_num:\n",
        "    print(\"\\n\"+ cols)\n",
        "    print(f\" Skew {gstor_num[cols].skew()}\")"
      ]
    },
    {
      "cell_type": "code",
      "source": [
        "# check by histogram\n",
        "for cols in gstor_num:\n",
        "    print(\"\\n\"+ cols)\n",
        "    print(f\" Skew {gstor_num[cols].skew()}\")\n",
        "    plt.figure()\n",
        "    sns.histplot(gstor_num[cols], kde=True)\n",
        "    plt.show()"
      ],
      "metadata": {
        "colab": {
          "base_uri": "https://localhost:8080/",
          "height": 1000
        },
        "id": "5bHubiM5EZNT",
        "outputId": "834e172d-2948-4a13-e940-5c7f4299341f"
      },
      "execution_count": null,
      "outputs": [
        {
          "output_type": "stream",
          "name": "stdout",
          "text": [
            "\n",
            "Sales\n",
            " Skew 8.13808002122054\n"
          ]
        },
        {
          "output_type": "display_data",
          "data": {
            "text/plain": [
              "<Figure size 640x480 with 1 Axes>"
            ],
            "image/png": "[encoded data removed]"
          },
          "metadata": {}
        },
        {
          "output_type": "stream",
          "name": "stdout",
          "text": [
            "\n",
            "Quantity\n",
            " Skew 1.3603677307024202\n"
          ]
        },
        {
          "output_type": "display_data",
          "data": {
            "text/plain": [
              "<Figure size 640x480 with 1 Axes>"
            ],
            "image/png": "[encoded data removed]"
          },
          "metadata": {}
        },
        {
          "output_type": "stream",
          "name": "stdout",
          "text": [
            "\n",
            "Discount\n",
            " Skew 1.3877745521338385\n"
          ]
        },
        {
          "output_type": "display_data",
          "data": {
            "text/plain": [
              "<Figure size 640x480 with 1 Axes>"
            ],
            "image/png": "[encoded data removed]"
          },
          "metadata": {}
        },
        {
          "output_type": "stream",
          "name": "stdout",
          "text": [
            "\n",
            "Profit\n",
            " Skew 4.157188532777363\n"
          ]
        },
        {
          "output_type": "display_data",
          "data": {
            "text/plain": [
              "<Figure size 640x480 with 1 Axes>"
            ],
            "image/png": "[encoded data removed]"
          },
          "metadata": {}
        },
        {
          "output_type": "stream",
          "name": "stdout",
          "text": [
            "\n",
            "Shipping Cost\n",
            " Skew 5.872860637018437\n"
          ]
        },
        {
          "output_type": "display_data",
          "data": {
            "text/plain": [
              "<Figure size 640x480 with 1 Axes>"
            ],
            "image/png": "[encoded data removed]"
          },
          "metadata": {}
        }
      ]
    },
    {
      "cell_type": "markdown",
      "source": [
        "As we can see that the sales, discount and profit are highly right skewed, we need to process the skewness to meke the data centrally destributed.\n",
        "\n",
        "\n"
      ],
      "metadata": {
        "id": "o802z1j2R-Cr"
      }
    },
    {
      "cell_type": "markdown",
      "source": [
        "Lets check for the outliers in boxplot"
      ],
      "metadata": {
        "id": "zHg-JYBKHSLJ"
      }
    },
    {
      "cell_type": "code",
      "source": [
        "#lets just check for the outliers in boxplot\n",
        "for cols in gstor_num:\n",
        "\n",
        "    #counting Outliers by IQR Method (Inter QUartile RAnge)\n",
        "    qt1 = gstor_num[cols].quantile(0.25)  # First quartile\n",
        "    qt3 = gstor_num[cols].quantile(0.75)  # Third quartile\n",
        "    iqr = qt3 - qt1\n",
        "\n",
        "    # Lower and upper bounds for outliers\n",
        "    lower_bound = qt1 - 1.5 * iqr\n",
        "    upper_bound = qt3 + 1.5 * iqr\n",
        "\n",
        "    # Count outliers\n",
        "    otl = gstor_num[cols][(gstor_num[cols] < lower_bound) | (gstor_num[cols] > upper_bound)].count()\n",
        "    print(f\"{cols} total {gstor_num[cols].count()}\")\n",
        "    print(f\"Outliers {otl} ({(otl*100)/gstor_num[cols].count()} %)\")\n",
        "    print(f\"Skew is {gstor_num[cols].skew()}\")\n",
        "\n",
        "    plt.figure()\n",
        "    sns.boxplot(y=gstor_num[cols])\n",
        "    plt.show()\n"
      ],
      "metadata": {
        "colab": {
          "base_uri": "https://localhost:8080/",
          "height": 1000
        },
        "id": "mgvlwzHDJ0us",
        "outputId": "708dff05-e403-492a-e37f-7e3781e539a7"
      },
      "execution_count": null,
      "outputs": [
        {
          "output_type": "stream",
          "name": "stdout",
          "text": [
            "Sales total 51290\n",
            "Outliers 5655 (11.025541041138624 %)\n",
            "Skew is 8.13808002122054\n"
          ]
        },
        {
          "output_type": "display_data",
          "data": {
            "text/plain": [
              "<Figure size 640x480 with 1 Axes>"
            ],
            "image/png": "[encoded data removed]"
          },
          "metadata": {}
        },
        {
          "output_type": "stream",
          "name": "stdout",
          "text": [
            "Quantity total 51290\n",
            "Outliers 877 (1.7098849678299863 %)\n",
            "Skew is 1.3603677307024202\n"
          ]
        },
        {
          "output_type": "display_data",
          "data": {
            "text/plain": [
              "<Figure size 640x480 with 1 Axes>"
            ],
            "image/png": "[encoded data removed]"
          },
          "metadata": {}
        },
        {
          "output_type": "stream",
          "name": "stdout",
          "text": [
            "Discount total 51290\n",
            "Outliers 4172 (8.134139208422695 %)\n",
            "Skew is 1.3877745521338385\n"
          ]
        },
        {
          "output_type": "display_data",
          "data": {
            "text/plain": [
              "<Figure size 640x480 with 1 Axes>"
            ],
            "image/png": "[encoded data removed]"
          },
          "metadata": {}
        },
        {
          "output_type": "stream",
          "name": "stdout",
          "text": [
            "Profit total 51290\n",
            "Outliers 9755 (19.01930200818873 %)\n",
            "Skew is 4.157188532777363\n"
          ]
        },
        {
          "output_type": "display_data",
          "data": {
            "text/plain": [
              "<Figure size 640x480 with 1 Axes>"
            ],
            "image/png": "[encoded data removed]"
          },
          "metadata": {}
        },
        {
          "output_type": "stream",
          "name": "stdout",
          "text": [
            "Shipping Cost total 51290\n",
            "Outliers 5909 (11.520764281536362 %)\n",
            "Skew is 5.872860637018437\n"
          ]
        },
        {
          "output_type": "display_data",
          "data": {
            "text/plain": [
              "<Figure size 640x480 with 1 Axes>"
            ],
            "image/png": "[encoded data removed]"
          },
          "metadata": {}
        }
      ]
    },
    {
      "cell_type": "markdown",
      "source": [
        "Sales, Profit & Shipping cost have many outliers, whereas discount & quantity outliers are very low in numbers."
      ],
      "metadata": {
        "id": "sAMshUBZLMUN"
      }
    },
    {
      "cell_type": "markdown",
      "source": [
        "generally we apply square root method or log method to handle the skewness, but it will be a good prectice to **check for the correlation coefficient** between the columns & think for the impact of change on that relation."
      ],
      "metadata": {
        "id": "rQfPHNXqTh9X"
      }
    },
    {
      "cell_type": "markdown",
      "source": [
        "to check the co-relation, we will use corelation function and plot that corelation table in the histogram\n"
      ],
      "metadata": {
        "id": "uRxF9PjvUADq"
      }
    },
    {
      "cell_type": "code",
      "source": [
        "gstor_num.corr()"
      ],
      "metadata": {
        "colab": {
          "base_uri": "https://localhost:8080/",
          "height": 206
        },
        "id": "Q6wW8Bt19gbh",
        "outputId": "e88ab9a7-7802-4e6a-c3a7-6ea8a4793b7a"
      },
      "execution_count": null,
      "outputs": [
        {
          "output_type": "execute_result",
          "data": {
            "text/plain": [
              "                  Sales  Quantity  Discount    Profit  Shipping Cost\n",
              "Sales          1.000000  0.313577 -0.086722  0.484918       0.767835\n",
              "Quantity       0.313577  1.000000 -0.019875  0.104365       0.271804\n",
              "Discount      -0.086722 -0.019875  1.000000 -0.316490      -0.078153\n",
              "Profit         0.484918  0.104365 -0.316490  1.000000       0.354423\n",
              "Shipping Cost  0.767835  0.271804 -0.078153  0.354423       1.000000"
            ],
            "text/html": [
              "\n",
              "  <div id=\"df-0174f6f3-69a1-4d3d-aa47-66ac17e512cc\" class=\"colab-df-container\">\n",
              "    <div>\n",
              "<style scoped>\n",
              "    .dataframe tbody tr th:only-of-type {\n",
              "        vertical-align: middle;\n",
              "    }\n",
              "\n",
              "    .dataframe tbody tr th {\n",
              "        vertical-align: top;\n",
              "    }\n",
              "\n",
              "    .dataframe thead th {\n",
              "        text-align: right;\n",
              "    }\n",
              "</style>\n",
              "<table border=\"1\" class=\"dataframe\">\n",
              "  <thead>\n",
              "    <tr style=\"text-align: right;\">\n",
              "      <th></th>\n",
              "      <th>Sales</th>\n",
              "      <th>Quantity</th>\n",
              "      <th>Discount</th>\n",
              "      <th>Profit</th>\n",
              "      <th>Shipping Cost</th>\n",
              "    </tr>\n",
              "  </thead>\n",
              "  <tbody>\n",
              "    <tr>\n",
              "      <th>Sales</th>\n",
              "      <td>1.000000</td>\n",
              "      <td>0.313577</td>\n",
              "      <td>-0.086722</td>\n",
              "      <td>0.484918</td>\n",
              "      <td>0.767835</td>\n",
              "    </tr>\n",
              "    <tr>\n",
              "      <th>Quantity</th>\n",
              "      <td>0.313577</td>\n",
              "      <td>1.000000</td>\n",
              "      <td>-0.019875</td>\n",
              "      <td>0.104365</td>\n",
              "      <td>0.271804</td>\n",
              "    </tr>\n",
              "    <tr>\n",
              "      <th>Discount</th>\n",
              "      <td>-0.086722</td>\n",
              "      <td>-0.019875</td>\n",
              "      <td>1.000000</td>\n",
              "      <td>-0.316490</td>\n",
              "      <td>-0.078153</td>\n",
              "    </tr>\n",
              "    <tr>\n",
              "      <th>Profit</th>\n",
              "      <td>0.484918</td>\n",
              "      <td>0.104365</td>\n",
              "      <td>-0.316490</td>\n",
              "      <td>1.000000</td>\n",
              "      <td>0.354423</td>\n",
              "    </tr>\n",
              "    <tr>\n",
              "      <th>Shipping Cost</th>\n",
              "      <td>0.767835</td>\n",
              "      <td>0.271804</td>\n",
              "      <td>-0.078153</td>\n",
              "      <td>0.354423</td>\n",
              "      <td>1.000000</td>\n",
              "    </tr>\n",
              "  </tbody>\n",
              "</table>\n",
              "</div>\n",
              "    <div class=\"colab-df-buttons\">\n",
              "\n",
              "  <div class=\"colab-df-container\">\n",
              "    <button class=\"colab-df-convert\" onclick=\"convertToInteractive('df-0174f6f3-69a1-4d3d-aa47-66ac17e512cc')\"\n",
              "            title=\"Convert this dataframe to an interactive table.\"\n",
              "            style=\"display:none;\">\n",
              "\n",
              "  <svg xmlns=\"http://www.w3.org/2000/svg\" height=\"24px\" viewBox=\"0 -960 960 960\">\n",
              "    <path d=\"M120-120v-720h720v720H120Zm60-500h600v-160H180v160Zm220 220h160v-160H400v160Zm0 220h160v-160H400v160ZM180-400h160v-160H180v160Zm440 0h160v-160H620v160ZM180-180h160v-160H180v160Zm440 0h160v-160H620v160Z\"/>\n",
              "  </svg>\n",
              "    </button>\n",
              "\n",
              "  <style>\n",
              "    .colab-df-container {\n",
              "      display:flex;\n",
              "      gap: 12px;\n",
              "    }\n",
              "\n",
              "    .colab-df-convert {\n",
              "      background-color: #E8F0FE;\n",
              "      border: none;\n",
              "      border-radius: 50%;\n",
              "      cursor: pointer;\n",
              "      display: none;\n",
              "      fill: #1967D2;\n",
              "      height: 32px;\n",
              "      padding: 0 0 0 0;\n",
              "      width: 32px;\n",
              "    }\n",
              "\n",
              "    .colab-df-convert:hover {\n",
              "      background-color: #E2EBFA;\n",
              "      box-shadow: 0px 1px 2px rgba(60, 64, 67, 0.3), 0px 1px 3px 1px rgba(60, 64, 67, 0.15);\n",
              "      fill: #174EA6;\n",
              "    }\n",
              "\n",
              "    .colab-df-buttons div {\n",
              "      margin-bottom: 4px;\n",
              "    }\n",
              "\n",
              "    [theme=dark] .colab-df-convert {\n",
              "      background-color: #3B4455;\n",
              "      fill: #D2E3FC;\n",
              "    }\n",
              "\n",
              "    [theme=dark] .colab-df-convert:hover {\n",
              "      background-color: #434B5C;\n",
              "      box-shadow: 0px 1px 3px 1px rgba(0, 0, 0, 0.15);\n",
              "      filter: drop-shadow(0px 1px 2px rgba(0, 0, 0, 0.3));\n",
              "      fill: #FFFFFF;\n",
              "    }\n",
              "  </style>\n",
              "\n",
              "    <script>\n",
              "      const buttonEl =\n",
              "        document.querySelector('#df-0174f6f3-69a1-4d3d-aa47-66ac17e512cc button.colab-df-convert');\n",
              "      buttonEl.style.display =\n",
              "        google.colab.kernel.accessAllowed ? 'block' : 'none';\n",
              "\n",
              "      async function convertToInteractive(key) {\n",
              "        const element = document.querySelector('#df-0174f6f3-69a1-4d3d-aa47-66ac17e512cc');\n",
              "        const dataTable =\n",
              "          await google.colab.kernel.invokeFunction('convertToInteractive',\n",
              "                                                    [key], {});\n",
              "        if (!dataTable) return;\n",
              "\n",
              "        const docLinkHtml = 'Like what you see? Visit the ' +\n",
              "          '<a target=\"_blank\" href=https://colab.research.google.com/notebooks/data_table.ipynb>data table notebook</a>'\n",
              "          + ' to learn more about interactive tables.';\n",
              "        element.innerHTML = '';\n",
              "        dataTable['output_type'] = 'display_data';\n",
              "        await google.colab.output.renderOutput(dataTable, element);\n",
              "        const docLink = document.createElement('div');\n",
              "        docLink.innerHTML = docLinkHtml;\n",
              "        element.appendChild(docLink);\n",
              "      }\n",
              "    </script>\n",
              "  </div>\n",
              "\n",
              "\n",
              "<div id=\"df-1603476b-62cd-42f3-bf07-8770efeb3827\">\n",
              "  <button class=\"colab-df-quickchart\" onclick=\"quickchart('df-1603476b-62cd-42f3-bf07-8770efeb3827')\"\n",
              "            title=\"Suggest charts\"\n",
              "            style=\"display:none;\">\n",
              "\n",
              "<svg xmlns=\"http://www.w3.org/2000/svg\" height=\"24px\"viewBox=\"0 0 24 24\"\n",
              "     width=\"24px\">\n",
              "    <g>\n",
              "        <path d=\"M19 3H5c-1.1 0-2 .9-2 2v14c0 1.1.9 2 2 2h14c1.1 0 2-.9 2-2V5c0-1.1-.9-2-2-2zM9 17H7v-7h2v7zm4 0h-2V7h2v10zm4 0h-2v-4h2v4z\"/>\n",
              "    </g>\n",
              "</svg>\n",
              "  </button>\n",
              "\n",
              "<style>\n",
              "  .colab-df-quickchart {\n",
              "      --bg-color: #E8F0FE;\n",
              "      --fill-color: #1967D2;\n",
              "      --hover-bg-color: #E2EBFA;\n",
              "      --hover-fill-color: #174EA6;\n",
              "      --disabled-fill-color: #AAA;\n",
              "      --disabled-bg-color: #DDD;\n",
              "  }\n",
              "\n",
              "  [theme=dark] .colab-df-quickchart {\n",
              "      --bg-color: #3B4455;\n",
              "      --fill-color: #D2E3FC;\n",
              "      --hover-bg-color: #434B5C;\n",
              "      --hover-fill-color: #FFFFFF;\n",
              "      --disabled-bg-color: #3B4455;\n",
              "      --disabled-fill-color: #666;\n",
              "  }\n",
              "\n",
              "  .colab-df-quickchart {\n",
              "    background-color: var(--bg-color);\n",
              "    border: none;\n",
              "    border-radius: 50%;\n",
              "    cursor: pointer;\n",
              "    display: none;\n",
              "    fill: var(--fill-color);\n",
              "    height: 32px;\n",
              "    padding: 0;\n",
              "    width: 32px;\n",
              "  }\n",
              "\n",
              "  .colab-df-quickchart:hover {\n",
              "    background-color: var(--hover-bg-color);\n",
              "    box-shadow: 0 1px 2px rgba(60, 64, 67, 0.3), 0 1px 3px 1px rgba(60, 64, 67, 0.15);\n",
              "    fill: var(--button-hover-fill-color);\n",
              "  }\n",
              "\n",
              "  .colab-df-quickchart-complete:disabled,\n",
              "  .colab-df-quickchart-complete:disabled:hover {\n",
              "    background-color: var(--disabled-bg-color);\n",
              "    fill: var(--disabled-fill-color);\n",
              "    box-shadow: none;\n",
              "  }\n",
              "\n",
              "  .colab-df-spinner {\n",
              "    border: 2px solid var(--fill-color);\n",
              "    border-color: transparent;\n",
              "    border-bottom-color: var(--fill-color);\n",
              "    animation:\n",
              "      spin 1s steps(1) infinite;\n",
              "  }\n",
              "\n",
              "  @keyframes spin {\n",
              "    0% {\n",
              "      border-color: transparent;\n",
              "      border-bottom-color: var(--fill-color);\n",
              "      border-left-color: var(--fill-color);\n",
              "    }\n",
              "    20% {\n",
              "      border-color: transparent;\n",
              "      border-left-color: var(--fill-color);\n",
              "      border-top-color: var(--fill-color);\n",
              "    }\n",
              "    30% {\n",
              "      border-color: transparent;\n",
              "      border-left-color: var(--fill-color);\n",
              "      border-top-color: var(--fill-color);\n",
              "      border-right-color: var(--fill-color);\n",
              "    }\n",
              "    40% {\n",
              "      border-color: transparent;\n",
              "      border-right-color: var(--fill-color);\n",
              "      border-top-color: var(--fill-color);\n",
              "    }\n",
              "    60% {\n",
              "      border-color: transparent;\n",
              "      border-right-color: var(--fill-color);\n",
              "    }\n",
              "    80% {\n",
              "      border-color: transparent;\n",
              "      border-right-color: var(--fill-color);\n",
              "      border-bottom-color: var(--fill-color);\n",
              "    }\n",
              "    90% {\n",
              "      border-color: transparent;\n",
              "      border-bottom-color: var(--fill-color);\n",
              "    }\n",
              "  }\n",
              "</style>\n",
              "\n",
              "  <script>\n",
              "    async function quickchart(key) {\n",
              "      const quickchartButtonEl =\n",
              "        document.querySelector('#' + key + ' button');\n",
              "      quickchartButtonEl.disabled = true;  // To prevent multiple clicks.\n",
              "      quickchartButtonEl.classList.add('colab-df-spinner');\n",
              "      try {\n",
              "        const charts = await google.colab.kernel.invokeFunction(\n",
              "            'suggestCharts', [key], {});\n",
              "      } catch (error) {\n",
              "        console.error('Error during call to suggestCharts:', error);\n",
              "      }\n",
              "      quickchartButtonEl.classList.remove('colab-df-spinner');\n",
              "      quickchartButtonEl.classList.add('colab-df-quickchart-complete');\n",
              "    }\n",
              "    (() => {\n",
              "      let quickchartButtonEl =\n",
              "        document.querySelector('#df-1603476b-62cd-42f3-bf07-8770efeb3827 button');\n",
              "      quickchartButtonEl.style.display =\n",
              "        google.colab.kernel.accessAllowed ? 'block' : 'none';\n",
              "    })();\n",
              "  </script>\n",
              "</div>\n",
              "\n",
              "    </div>\n",
              "  </div>\n"
            ],
            "application/vnd.google.colaboratory.intrinsic+json": {
              "type": "dataframe",
              "summary": "{\n  \"name\": \"gstor_num\",\n  \"rows\": 5,\n  \"fields\": [\n    {\n      \"column\": \"Sales\",\n      \"properties\": {\n        \"dtype\": \"number\",\n        \"std\": 0.41859162017620644,\n        \"min\": -0.0867218669718256,\n        \"max\": 1.0,\n        \"num_unique_values\": 5,\n        \"samples\": [\n          0.31357718095479303,\n          0.7678347682798694,\n          -0.0867218669718256\n        ],\n        \"semantic_type\": \"\",\n        \"description\": \"\"\n      }\n    },\n    {\n      \"column\": \"Quantity\",\n      \"properties\": {\n        \"dtype\": \"number\",\n        \"std\": 0.3955379045959385,\n        \"min\": -0.019874695147653217,\n        \"max\": 1.0,\n        \"num_unique_values\": 5,\n        \"samples\": [\n          1.0,\n          0.27180412366081713,\n          -0.019874695147653217\n        ],\n        \"semantic_type\": \"\",\n        \"description\": \"\"\n      }\n    },\n    {\n      \"column\": \"Discount\",\n      \"properties\": {\n        \"dtype\": \"number\",\n        \"std\": 0.5158578076954647,\n        \"min\": -0.3164901718272721,\n        \"max\": 1.0,\n        \"num_unique_values\": 5,\n        \"samples\": [\n          -0.019874695147653217,\n          -0.07815262240961364,\n          1.0\n        ],\n        \"semantic_type\": \"\",\n        \"description\": \"\"\n      }\n    },\n    {\n      \"column\": \"Profit\",\n      \"properties\": {\n        \"dtype\": \"number\",\n        \"std\": 0.48534858020180244,\n        \"min\": -0.3164901718272721,\n        \"max\": 1.0,\n        \"num_unique_values\": 5,\n        \"samples\": [\n          0.10436502716960365,\n          0.3544232046040268,\n          -0.3164901718272721\n        ],\n        \"semantic_type\": \"\",\n        \"description\": \"\"\n      }\n    },\n    {\n      \"column\": \"Shipping Cost\",\n      \"properties\": {\n        \"dtype\": \"number\",\n        \"std\": 0.4249952984716332,\n        \"min\": -0.07815262240961364,\n        \"max\": 1.0,\n        \"num_unique_values\": 5,\n        \"samples\": [\n          0.27180412366081713,\n          1.0,\n          -0.07815262240961364\n        ],\n        \"semantic_type\": \"\",\n        \"description\": \"\"\n      }\n    }\n  ]\n}"
            }
          },
          "metadata": {},
          "execution_count": 22
        }
      ]
    },
    {
      "cell_type": "code",
      "source": [
        "# converting it to chart for more clear visual\n",
        "plt.figure(figsize=(7,7))\n",
        "sns.heatmap(gstor_num.corr(), annot=True) # annot include data values in each cell\n",
        "plt.show()"
      ],
      "metadata": {
        "colab": {
          "base_uri": "https://localhost:8080/",
          "height": 605
        },
        "id": "zFcE2jCBApHO",
        "outputId": "29604c12-0a1b-4e4a-dd7e-e9ed56bb9c73"
      },
      "execution_count": null,
      "outputs": [
        {
          "output_type": "display_data",
          "data": {
            "text/plain": [
              "<Figure size 700x700 with 2 Axes>"
            ],
            "image/png": "[encoded data removed]"
          },
          "metadata": {}
        }
      ]
    },
    {
      "cell_type": "markdown",
      "source": [
        "By observing the above correlation, the linear relation in sales and quantity and linear relation in sales and profit is important. If we use the capping or trimming, the correlation coefficient may disturb and will effect the end result.\n",
        "\n",
        "To make the data normally distrubuted without disturbing the correlation, let's just try winzorizing mehtod for outliers."
      ],
      "metadata": {
        "id": "w19fTe0dszRU"
      }
    },
    {
      "cell_type": "code",
      "source": [
        "# Generating all details for the transformation\n",
        "for cols in gstor_num:\n",
        "\n",
        "    #counting Outliers by IQR Method (Inter QUartile RAnge)\n",
        "    qt1 = gstor_num[cols].quantile(0.25)  # First quartile\n",
        "    qt3 = gstor_num[cols].quantile(0.75)  # Third quartile\n",
        "    iqr = qt3 - qt1\n",
        "\n",
        "    # Lower and upper bounds for outliers\n",
        "    lower_bound = qt1 - 1.5 * iqr\n",
        "    upper_bound = qt3 + 1.5 * iqr\n",
        "\n",
        "    # Count outliers\n",
        "    otl = gstor_num[cols][(gstor_num[cols] < lower_bound) | (gstor_num[cols] > upper_bound)].count()\n",
        "\n",
        "    # Printing The Stats of column before the charts\n",
        "    print(f\"{cols} total {gstor_num[cols].count()}\")\n",
        "    print(f\"Outliers {otl} ({(otl*100)/gstor_num[cols].count()} %)\")\n",
        "    print(f\"Skew is {gstor_num[cols].skew()}\")\n",
        "    print (f\"The lower quarter (below 25%) {qt1} and the upper quarter (above 75%) {qt3}\")\n",
        "    print(f\"InterQuartal Range {iqr} with Lower bound {lower_bound} and upper bound {upper_bound}\\n\")\n"
      ],
      "metadata": {
        "colab": {
          "base_uri": "https://localhost:8080/"
        },
        "id": "po-M3Bfv44Dp",
        "outputId": "eaeddf19-407e-4715-d1c3-bf4cdde111d0"
      },
      "execution_count": null,
      "outputs": [
        {
          "output_type": "stream",
          "name": "stdout",
          "text": [
            "Sales total 51290\n",
            "Outliers 5655 (11.025541041138624 %)\n",
            "Skew is 8.13808002122054\n",
            "The lower quarter (below 25%) 30.758625000000002 and the upper quarter (above 75%) 251.0532\n",
            "InterQuartal Range 220.294575 with Lower bound -299.6832375 and upper bound 581.4950625\n",
            "\n",
            "Quantity total 51290\n",
            "Outliers 877 (1.7098849678299863 %)\n",
            "Skew is 1.3603677307024202\n",
            "The lower quarter (below 25%) 2.0 and the upper quarter (above 75%) 5.0\n",
            "InterQuartal Range 3.0 with Lower bound -2.5 and upper bound 9.5\n",
            "\n",
            "Discount total 51290\n",
            "Outliers 4172 (8.134139208422695 %)\n",
            "Skew is 1.3877745521338385\n",
            "The lower quarter (below 25%) 0.0 and the upper quarter (above 75%) 0.2\n",
            "InterQuartal Range 0.2 with Lower bound -0.30000000000000004 and upper bound 0.5\n",
            "\n",
            "Profit total 51290\n",
            "Outliers 9755 (19.01930200818873 %)\n",
            "Skew is 4.157188532777363\n",
            "The lower quarter (below 25%) 0.0 and the upper quarter (above 75%) 36.81\n",
            "InterQuartal Range 36.81 with Lower bound -55.215 and upper bound 92.025\n",
            "\n",
            "Shipping Cost total 51290\n",
            "Outliers 5909 (11.520764281536362 %)\n",
            "Skew is 5.872860637018437\n",
            "The lower quarter (below 25%) 2.61 and the upper quarter (above 75%) 24.45\n",
            "InterQuartal Range 21.84 with Lower bound -30.15 and upper bound 57.209999999999994\n",
            "\n"
          ]
        }
      ]
    },
    {
      "cell_type": "markdown",
      "source": [
        "Implimenting the winsirize to sales, profit & shipping cost. Need to impliment separate code for each column, because the outliers percentage is different for each column"
      ],
      "metadata": {
        "id": "D6ylYFlKRes3"
      }
    },
    {
      "cell_type": "markdown",
      "source": [
        "Parellely creating the new dataset for numeric columns with winzorized values"
      ],
      "metadata": {
        "id": "WiOVny1hdlf9"
      }
    },
    {
      "cell_type": "code",
      "source": [
        "gstor_winz=pd.DataFrame()"
      ],
      "metadata": {
        "id": "lM5YtJV9eT79"
      },
      "execution_count": null,
      "outputs": []
    },
    {
      "cell_type": "code",
      "source": [
        "# sales\n",
        "fig, ax = plt.subplots(ncols=2, figsize=(10,8))\n",
        "sns.boxplot(y= gstor_num['Sales'], ax=ax[0])\n",
        "sns.boxplot(y= stats.mstats.winsorize(a=gstor_num['Sales'], limits=(0.01,0.12)), ax=ax[1])\n",
        "plt.show()\n",
        "\n",
        "# Adding to new dataset as column\n",
        "gstor_winz[\"Sales\"]=stats.mstats.winsorize(a=gstor_num['Sales'], limits=(0.01,0.12))\n"
      ],
      "metadata": {
        "id": "cRiyMwEYA-uo",
        "colab": {
          "base_uri": "https://localhost:8080/",
          "height": 657
        },
        "outputId": "b00e3ea7-8a05-47e8-8ce8-e39794b6030f"
      },
      "execution_count": null,
      "outputs": [
        {
          "output_type": "display_data",
          "data": {
            "text/plain": [
              "<Figure size 1000x800 with 2 Axes>"
            ],
            "image/png": "[encoded data removed]"
          },
          "metadata": {}
        }
      ]
    },
    {
      "cell_type": "code",
      "source": [
        "# profit\n",
        "fig, ax = plt.subplots(ncols=2, figsize=(10,8))\n",
        "sns.boxplot(y= gstor_num['Profit'], ax=ax[0])\n",
        "sns.boxplot(y= stats.mstats.winsorize(a=gstor_num['Profit'], limits=(0.07,0.122)), ax=ax[1])\n",
        "plt.show()\n",
        "\n",
        "# Adding to new dataset as column\n",
        "gstor_winz[\"Profit\"]=stats.mstats.winsorize(a=gstor_num['Profit'], limits=(0.07,0.122))"
      ],
      "metadata": {
        "id": "impR7F9NwOeq",
        "colab": {
          "base_uri": "https://localhost:8080/",
          "height": 657
        },
        "outputId": "a0e9558a-9ab1-45e1-a3b1-5b5beb76d4d6"
      },
      "execution_count": null,
      "outputs": [
        {
          "output_type": "display_data",
          "data": {
            "text/plain": [
              "<Figure size 1000x800 with 2 Axes>"
            ],
            "image/png": "[encoded data removed]"
          },
          "metadata": {}
        }
      ]
    },
    {
      "cell_type": "code",
      "source": [
        "# Shipping Cost\n",
        "fig, ax = plt.subplots(ncols=2, figsize=(10,8))\n",
        "sns.boxplot(y= gstor_num['Shipping Cost'], ax=ax[0])\n",
        "sns.boxplot(y= stats.mstats.winsorize(a=gstor_num['Shipping Cost'], limits=(0.00,0.116)), ax=ax[1])\n",
        "plt.show()\n",
        "\n",
        "# Adding to new dataset as column\n",
        "gstor_winz[\"Shipping Cost\"]=stats.mstats.winsorize(a=gstor_num['Shipping Cost'], limits=(0.00,0.116))"
      ],
      "metadata": {
        "id": "ZoWfH3D84UUQ",
        "colab": {
          "base_uri": "https://localhost:8080/",
          "height": 657
        },
        "outputId": "0de1b51f-b84e-4ec9-8c9f-41f281c12bad"
      },
      "execution_count": null,
      "outputs": [
        {
          "output_type": "display_data",
          "data": {
            "text/plain": [
              "<Figure size 1000x800 with 2 Axes>"
            ],
            "image/png": "[encoded data removed]"
          },
          "metadata": {}
        }
      ]
    },
    {
      "cell_type": "code",
      "source": [
        "#Quantity\n",
        "fig, ax = plt.subplots(ncols=2, figsize=(10,8))\n",
        "sns.boxplot(y= gstor_num['Quantity'], ax=ax[0])\n",
        "sns.boxplot(y= stats.mstats.winsorize(a=gstor_num['Quantity'], limits=(0.00,0.018)), ax=ax[1])\n",
        "plt.show()\n",
        "\n",
        "# Adding to new dataset as column\n",
        "gstor_winz[\"Quantity\"]=stats.mstats.winsorize(a=gstor_num['Quantity'], limits=(0.00,0.018))"
      ],
      "metadata": {
        "colab": {
          "base_uri": "https://localhost:8080/",
          "height": 657
        },
        "id": "JEIMDpTFPXYc",
        "outputId": "e8fff92a-71da-4d15-8b48-17190ef56c75"
      },
      "execution_count": null,
      "outputs": [
        {
          "output_type": "display_data",
          "data": {
            "text/plain": [
              "<Figure size 1000x800 with 2 Axes>"
            ],
            "image/png": "[encoded data removed]"
          },
          "metadata": {}
        }
      ]
    },
    {
      "cell_type": "code",
      "source": [
        "#Discount\n",
        "fig, ax = plt.subplots(ncols=2, figsize=(10,8))\n",
        "sns.boxplot(y= gstor_num['Discount'], ax=ax[0])\n",
        "sns.boxplot(y= stats.mstats.winsorize(a=gstor_num['Discount'], limits=(0.00,0.082)), ax=ax[1])\n",
        "plt.show()\n",
        "\n",
        "# Adding to new dataset as column\n",
        "gstor_winz[\"Discount\"]=stats.mstats.winsorize(a=gstor_num['Discount'], limits=(0.00,0.082))"
      ],
      "metadata": {
        "colab": {
          "base_uri": "https://localhost:8080/",
          "height": 657
        },
        "id": "eqS_nrx5Rv4d",
        "outputId": "10c348b4-35e2-480b-87e7-b0754aba1ccc"
      },
      "execution_count": null,
      "outputs": [
        {
          "output_type": "display_data",
          "data": {
            "text/plain": [
              "<Figure size 1000x800 with 2 Axes>"
            ],
            "image/png": "[encoded data removed]"
          },
          "metadata": {}
        }
      ]
    },
    {
      "cell_type": "code",
      "source": [
        "gstor_winz.head()"
      ],
      "metadata": {
        "colab": {
          "base_uri": "https://localhost:8080/",
          "height": 206
        },
        "id": "Q7xuTR8VSLp9",
        "outputId": "76163210-cc40-4273-fa27-53a0a029eec9"
      },
      "execution_count": null,
      "outputs": [
        {
          "output_type": "execute_result",
          "data": {
            "text/plain": [
              "     Sales  Quantity  Discount   Profit  Shipping Cost\n",
              "0  221.980         2       0.0  62.1544         40.770\n",
              "1  538.488         9       0.1 -53.8548         56.804\n",
              "2  538.488         9       0.1  91.6800         56.804\n",
              "3  538.488         5       0.1 -53.8548         56.804\n",
              "4  538.488         8       0.0  91.6800         56.804"
            ],
            "text/html": [
              "\n",
              "  <div id=\"df-1e9b0141-5ec6-4524-a865-39b18e9dccfa\" class=\"colab-df-container\">\n",
              "    <div>\n",
              "<style scoped>\n",
              "    .dataframe tbody tr th:only-of-type {\n",
              "        vertical-align: middle;\n",
              "    }\n",
              "\n",
              "    .dataframe tbody tr th {\n",
              "        vertical-align: top;\n",
              "    }\n",
              "\n",
              "    .dataframe thead th {\n",
              "        text-align: right;\n",
              "    }\n",
              "</style>\n",
              "<table border=\"1\" class=\"dataframe\">\n",
              "  <thead>\n",
              "    <tr style=\"text-align: right;\">\n",
              "      <th></th>\n",
              "      <th>Sales</th>\n",
              "      <th>Quantity</th>\n",
              "      <th>Discount</th>\n",
              "      <th>Profit</th>\n",
              "      <th>Shipping Cost</th>\n",
              "    </tr>\n",
              "  </thead>\n",
              "  <tbody>\n",
              "    <tr>\n",
              "      <th>0</th>\n",
              "      <td>221.980</td>\n",
              "      <td>2</td>\n",
              "      <td>0.0</td>\n",
              "      <td>62.1544</td>\n",
              "      <td>40.770</td>\n",
              "    </tr>\n",
              "    <tr>\n",
              "      <th>1</th>\n",
              "      <td>538.488</td>\n",
              "      <td>9</td>\n",
              "      <td>0.1</td>\n",
              "      <td>-53.8548</td>\n",
              "      <td>56.804</td>\n",
              "    </tr>\n",
              "    <tr>\n",
              "      <th>2</th>\n",
              "      <td>538.488</td>\n",
              "      <td>9</td>\n",
              "      <td>0.1</td>\n",
              "      <td>91.6800</td>\n",
              "      <td>56.804</td>\n",
              "    </tr>\n",
              "    <tr>\n",
              "      <th>3</th>\n",
              "      <td>538.488</td>\n",
              "      <td>5</td>\n",
              "      <td>0.1</td>\n",
              "      <td>-53.8548</td>\n",
              "      <td>56.804</td>\n",
              "    </tr>\n",
              "    <tr>\n",
              "      <th>4</th>\n",
              "      <td>538.488</td>\n",
              "      <td>8</td>\n",
              "      <td>0.0</td>\n",
              "      <td>91.6800</td>\n",
              "      <td>56.804</td>\n",
              "    </tr>\n",
              "  </tbody>\n",
              "</table>\n",
              "</div>\n",
              "    <div class=\"colab-df-buttons\">\n",
              "\n",
              "  <div class=\"colab-df-container\">\n",
              "    <button class=\"colab-df-convert\" onclick=\"convertToInteractive('df-1e9b0141-5ec6-4524-a865-39b18e9dccfa')\"\n",
              "            title=\"Convert this dataframe to an interactive table.\"\n",
              "            style=\"display:none;\">\n",
              "\n",
              "  <svg xmlns=\"http://www.w3.org/2000/svg\" height=\"24px\" viewBox=\"0 -960 960 960\">\n",
              "    <path d=\"M120-120v-720h720v720H120Zm60-500h600v-160H180v160Zm220 220h160v-160H400v160Zm0 220h160v-160H400v160ZM180-400h160v-160H180v160Zm440 0h160v-160H620v160ZM180-180h160v-160H180v160Zm440 0h160v-160H620v160Z\"/>\n",
              "  </svg>\n",
              "    </button>\n",
              "\n",
              "  <style>\n",
              "    .colab-df-container {\n",
              "      display:flex;\n",
              "      gap: 12px;\n",
              "    }\n",
              "\n",
              "    .colab-df-convert {\n",
              "      background-color: #E8F0FE;\n",
              "      border: none;\n",
              "      border-radius: 50%;\n",
              "      cursor: pointer;\n",
              "      display: none;\n",
              "      fill: #1967D2;\n",
              "      height: 32px;\n",
              "      padding: 0 0 0 0;\n",
              "      width: 32px;\n",
              "    }\n",
              "\n",
              "    .colab-df-convert:hover {\n",
              "      background-color: #E2EBFA;\n",
              "      box-shadow: 0px 1px 2px rgba(60, 64, 67, 0.3), 0px 1px 3px 1px rgba(60, 64, 67, 0.15);\n",
              "      fill: #174EA6;\n",
              "    }\n",
              "\n",
              "    .colab-df-buttons div {\n",
              "      margin-bottom: 4px;\n",
              "    }\n",
              "\n",
              "    [theme=dark] .colab-df-convert {\n",
              "      background-color: #3B4455;\n",
              "      fill: #D2E3FC;\n",
              "    }\n",
              "\n",
              "    [theme=dark] .colab-df-convert:hover {\n",
              "      background-color: #434B5C;\n",
              "      box-shadow: 0px 1px 3px 1px rgba(0, 0, 0, 0.15);\n",
              "      filter: drop-shadow(0px 1px 2px rgba(0, 0, 0, 0.3));\n",
              "      fill: #FFFFFF;\n",
              "    }\n",
              "  </style>\n",
              "\n",
              "    <script>\n",
              "      const buttonEl =\n",
              "        document.querySelector('#df-1e9b0141-5ec6-4524-a865-39b18e9dccfa button.colab-df-convert');\n",
              "      buttonEl.style.display =\n",
              "        google.colab.kernel.accessAllowed ? 'block' : 'none';\n",
              "\n",
              "      async function convertToInteractive(key) {\n",
              "        const element = document.querySelector('#df-1e9b0141-5ec6-4524-a865-39b18e9dccfa');\n",
              "        const dataTable =\n",
              "          await google.colab.kernel.invokeFunction('convertToInteractive',\n",
              "                                                    [key], {});\n",
              "        if (!dataTable) return;\n",
              "\n",
              "        const docLinkHtml = 'Like what you see? Visit the ' +\n",
              "          '<a target=\"_blank\" href=https://colab.research.google.com/notebooks/data_table.ipynb>data table notebook</a>'\n",
              "          + ' to learn more about interactive tables.';\n",
              "        element.innerHTML = '';\n",
              "        dataTable['output_type'] = 'display_data';\n",
              "        await google.colab.output.renderOutput(dataTable, element);\n",
              "        const docLink = document.createElement('div');\n",
              "        docLink.innerHTML = docLinkHtml;\n",
              "        element.appendChild(docLink);\n",
              "      }\n",
              "    </script>\n",
              "  </div>\n",
              "\n",
              "\n",
              "<div id=\"df-b968408e-c640-482d-856e-0247cfa3a848\">\n",
              "  <button class=\"colab-df-quickchart\" onclick=\"quickchart('df-b968408e-c640-482d-856e-0247cfa3a848')\"\n",
              "            title=\"Suggest charts\"\n",
              "            style=\"display:none;\">\n",
              "\n",
              "<svg xmlns=\"http://www.w3.org/2000/svg\" height=\"24px\"viewBox=\"0 0 24 24\"\n",
              "     width=\"24px\">\n",
              "    <g>\n",
              "        <path d=\"M19 3H5c-1.1 0-2 .9-2 2v14c0 1.1.9 2 2 2h14c1.1 0 2-.9 2-2V5c0-1.1-.9-2-2-2zM9 17H7v-7h2v7zm4 0h-2V7h2v10zm4 0h-2v-4h2v4z\"/>\n",
              "    </g>\n",
              "</svg>\n",
              "  </button>\n",
              "\n",
              "<style>\n",
              "  .colab-df-quickchart {\n",
              "      --bg-color: #E8F0FE;\n",
              "      --fill-color: #1967D2;\n",
              "      --hover-bg-color: #E2EBFA;\n",
              "      --hover-fill-color: #174EA6;\n",
              "      --disabled-fill-color: #AAA;\n",
              "      --disabled-bg-color: #DDD;\n",
              "  }\n",
              "\n",
              "  [theme=dark] .colab-df-quickchart {\n",
              "      --bg-color: #3B4455;\n",
              "      --fill-color: #D2E3FC;\n",
              "      --hover-bg-color: #434B5C;\n",
              "      --hover-fill-color: #FFFFFF;\n",
              "      --disabled-bg-color: #3B4455;\n",
              "      --disabled-fill-color: #666;\n",
              "  }\n",
              "\n",
              "  .colab-df-quickchart {\n",
              "    background-color: var(--bg-color);\n",
              "    border: none;\n",
              "    border-radius: 50%;\n",
              "    cursor: pointer;\n",
              "    display: none;\n",
              "    fill: var(--fill-color);\n",
              "    height: 32px;\n",
              "    padding: 0;\n",
              "    width: 32px;\n",
              "  }\n",
              "\n",
              "  .colab-df-quickchart:hover {\n",
              "    background-color: var(--hover-bg-color);\n",
              "    box-shadow: 0 1px 2px rgba(60, 64, 67, 0.3), 0 1px 3px 1px rgba(60, 64, 67, 0.15);\n",
              "    fill: var(--button-hover-fill-color);\n",
              "  }\n",
              "\n",
              "  .colab-df-quickchart-complete:disabled,\n",
              "  .colab-df-quickchart-complete:disabled:hover {\n",
              "    background-color: var(--disabled-bg-color);\n",
              "    fill: var(--disabled-fill-color);\n",
              "    box-shadow: none;\n",
              "  }\n",
              "\n",
              "  .colab-df-spinner {\n",
              "    border: 2px solid var(--fill-color);\n",
              "    border-color: transparent;\n",
              "    border-bottom-color: var(--fill-color);\n",
              "    animation:\n",
              "      spin 1s steps(1) infinite;\n",
              "  }\n",
              "\n",
              "  @keyframes spin {\n",
              "    0% {\n",
              "      border-color: transparent;\n",
              "      border-bottom-color: var(--fill-color);\n",
              "      border-left-color: var(--fill-color);\n",
              "    }\n",
              "    20% {\n",
              "      border-color: transparent;\n",
              "      border-left-color: var(--fill-color);\n",
              "      border-top-color: var(--fill-color);\n",
              "    }\n",
              "    30% {\n",
              "      border-color: transparent;\n",
              "      border-left-color: var(--fill-color);\n",
              "      border-top-color: var(--fill-color);\n",
              "      border-right-color: var(--fill-color);\n",
              "    }\n",
              "    40% {\n",
              "      border-color: transparent;\n",
              "      border-right-color: var(--fill-color);\n",
              "      border-top-color: var(--fill-color);\n",
              "    }\n",
              "    60% {\n",
              "      border-color: transparent;\n",
              "      border-right-color: var(--fill-color);\n",
              "    }\n",
              "    80% {\n",
              "      border-color: transparent;\n",
              "      border-right-color: var(--fill-color);\n",
              "      border-bottom-color: var(--fill-color);\n",
              "    }\n",
              "    90% {\n",
              "      border-color: transparent;\n",
              "      border-bottom-color: var(--fill-color);\n",
              "    }\n",
              "  }\n",
              "</style>\n",
              "\n",
              "  <script>\n",
              "    async function quickchart(key) {\n",
              "      const quickchartButtonEl =\n",
              "        document.querySelector('#' + key + ' button');\n",
              "      quickchartButtonEl.disabled = true;  // To prevent multiple clicks.\n",
              "      quickchartButtonEl.classList.add('colab-df-spinner');\n",
              "      try {\n",
              "        const charts = await google.colab.kernel.invokeFunction(\n",
              "            'suggestCharts', [key], {});\n",
              "      } catch (error) {\n",
              "        console.error('Error during call to suggestCharts:', error);\n",
              "      }\n",
              "      quickchartButtonEl.classList.remove('colab-df-spinner');\n",
              "      quickchartButtonEl.classList.add('colab-df-quickchart-complete');\n",
              "    }\n",
              "    (() => {\n",
              "      let quickchartButtonEl =\n",
              "        document.querySelector('#df-b968408e-c640-482d-856e-0247cfa3a848 button');\n",
              "      quickchartButtonEl.style.display =\n",
              "        google.colab.kernel.accessAllowed ? 'block' : 'none';\n",
              "    })();\n",
              "  </script>\n",
              "</div>\n",
              "\n",
              "    </div>\n",
              "  </div>\n"
            ],
            "application/vnd.google.colaboratory.intrinsic+json": {
              "type": "dataframe",
              "variable_name": "gstor_winz",
              "summary": "{\n  \"name\": \"gstor_winz\",\n  \"rows\": 51290,\n  \"fields\": [\n    {\n      \"column\": \"Sales\",\n      \"properties\": {\n        \"dtype\": \"number\",\n        \"std\": 179.65075934924104,\n        \"min\": 3.69,\n        \"max\": 538.4879999999999,\n        \"num_unique_values\": 22026,\n        \"samples\": [\n          41.04000000000001,\n          186.12,\n          130.21200000000002\n        ],\n        \"semantic_type\": \"\",\n        \"description\": \"\"\n      }\n    },\n    {\n      \"column\": \"Quantity\",\n      \"properties\": {\n        \"dtype\": \"number\",\n        \"std\": 2,\n        \"min\": 1,\n        \"max\": 9,\n        \"num_unique_values\": 9,\n        \"samples\": [\n          3,\n          9,\n          6\n        ],\n        \"semantic_type\": \"\",\n        \"description\": \"\"\n      }\n    },\n    {\n      \"column\": \"Discount\",\n      \"properties\": {\n        \"dtype\": \"number\",\n        \"std\": 0.18263765427619302,\n        \"min\": 0.0,\n        \"max\": 0.5,\n        \"num_unique_values\": 21,\n        \"samples\": [\n          0.0,\n          0.202,\n          0.37\n        ],\n        \"semantic_type\": \"\",\n        \"description\": \"\"\n      }\n    },\n    {\n      \"column\": \"Profit\",\n      \"properties\": {\n        \"dtype\": \"number\",\n        \"std\": 39.60115866769325,\n        \"min\": -53.854800000000004,\n        \"max\": 91.67999999999999,\n        \"num_unique_values\": 20227,\n        \"samples\": [\n          -18.03,\n          84.49499999999995,\n          -4.367999999999998\n        ],\n        \"semantic_type\": \"\",\n        \"description\": \"\"\n      }\n    },\n    {\n      \"column\": \"Shipping Cost\",\n      \"properties\": {\n        \"dtype\": \"number\",\n        \"std\": 18.791114623076336,\n        \"min\": 1.002,\n        \"max\": 56.803999999999995,\n        \"num_unique_values\": 11610,\n        \"samples\": [\n          10.839,\n          2.2600000000000002,\n          22.139\n        ],\n        \"semantic_type\": \"\",\n        \"description\": \"\"\n      }\n    }\n  ]\n}"
            }
          },
          "metadata": {},
          "execution_count": 88
        }
      ]
    },
    {
      "cell_type": "code",
      "source": [
        "gstor_winz.corr()"
      ],
      "metadata": {
        "colab": {
          "base_uri": "https://localhost:8080/",
          "height": 206
        },
        "id": "rYk0D_WTfa49",
        "outputId": "9a98adca-6f1f-4181-9664-5856f0586304"
      },
      "execution_count": null,
      "outputs": [
        {
          "output_type": "execute_result",
          "data": {
            "text/plain": [
              "                  Sales    Profit  Shipping Cost  Discount  Quantity\n",
              "Sales          1.000000  0.487773       0.889786 -0.112598  0.358339\n",
              "Profit         0.487773  1.000000       0.443856 -0.575081  0.183308\n",
              "Shipping Cost  0.889786  0.443856       1.000000 -0.103308  0.327797\n",
              "Discount      -0.112598 -0.575081      -0.103308  1.000000 -0.007026\n",
              "Quantity       0.358339  0.183308       0.327797 -0.007026  1.000000"
            ],
            "text/html": [
              "\n",
              "  <div id=\"df-1e621c8e-4048-4d24-be8f-5f4dc0471faa\" class=\"colab-df-container\">\n",
              "    <div>\n",
              "<style scoped>\n",
              "    .dataframe tbody tr th:only-of-type {\n",
              "        vertical-align: middle;\n",
              "    }\n",
              "\n",
              "    .dataframe tbody tr th {\n",
              "        vertical-align: top;\n",
              "    }\n",
              "\n",
              "    .dataframe thead th {\n",
              "        text-align: right;\n",
              "    }\n",
              "</style>\n",
              "<table border=\"1\" class=\"dataframe\">\n",
              "  <thead>\n",
              "    <tr style=\"text-align: right;\">\n",
              "      <th></th>\n",
              "      <th>Sales</th>\n",
              "      <th>Profit</th>\n",
              "      <th>Shipping Cost</th>\n",
              "      <th>Discount</th>\n",
              "      <th>Quantity</th>\n",
              "    </tr>\n",
              "  </thead>\n",
              "  <tbody>\n",
              "    <tr>\n",
              "      <th>Sales</th>\n",
              "      <td>1.000000</td>\n",
              "      <td>0.487773</td>\n",
              "      <td>0.889786</td>\n",
              "      <td>-0.112598</td>\n",
              "      <td>0.358339</td>\n",
              "    </tr>\n",
              "    <tr>\n",
              "      <th>Profit</th>\n",
              "      <td>0.487773</td>\n",
              "      <td>1.000000</td>\n",
              "      <td>0.443856</td>\n",
              "      <td>-0.575081</td>\n",
              "      <td>0.183308</td>\n",
              "    </tr>\n",
              "    <tr>\n",
              "      <th>Shipping Cost</th>\n",
              "      <td>0.889786</td>\n",
              "      <td>0.443856</td>\n",
              "      <td>1.000000</td>\n",
              "      <td>-0.103308</td>\n",
              "      <td>0.327797</td>\n",
              "    </tr>\n",
              "    <tr>\n",
              "      <th>Discount</th>\n",
              "      <td>-0.112598</td>\n",
              "      <td>-0.575081</td>\n",
              "      <td>-0.103308</td>\n",
              "      <td>1.000000</td>\n",
              "      <td>-0.007026</td>\n",
              "    </tr>\n",
              "    <tr>\n",
              "      <th>Quantity</th>\n",
              "      <td>0.358339</td>\n",
              "      <td>0.183308</td>\n",
              "      <td>0.327797</td>\n",
              "      <td>-0.007026</td>\n",
              "      <td>1.000000</td>\n",
              "    </tr>\n",
              "  </tbody>\n",
              "</table>\n",
              "</div>\n",
              "    <div class=\"colab-df-buttons\">\n",
              "\n",
              "  <div class=\"colab-df-container\">\n",
              "    <button class=\"colab-df-convert\" onclick=\"convertToInteractive('df-1e621c8e-4048-4d24-be8f-5f4dc0471faa')\"\n",
              "            title=\"Convert this dataframe to an interactive table.\"\n",
              "            style=\"display:none;\">\n",
              "\n",
              "  <svg xmlns=\"http://www.w3.org/2000/svg\" height=\"24px\" viewBox=\"0 -960 960 960\">\n",
              "    <path d=\"M120-120v-720h720v720H120Zm60-500h600v-160H180v160Zm220 220h160v-160H400v160Zm0 220h160v-160H400v160ZM180-400h160v-160H180v160Zm440 0h160v-160H620v160ZM180-180h160v-160H180v160Zm440 0h160v-160H620v160Z\"/>\n",
              "  </svg>\n",
              "    </button>\n",
              "\n",
              "  <style>\n",
              "    .colab-df-container {\n",
              "      display:flex;\n",
              "      gap: 12px;\n",
              "    }\n",
              "\n",
              "    .colab-df-convert {\n",
              "      background-color: #E8F0FE;\n",
              "      border: none;\n",
              "      border-radius: 50%;\n",
              "      cursor: pointer;\n",
              "      display: none;\n",
              "      fill: #1967D2;\n",
              "      height: 32px;\n",
              "      padding: 0 0 0 0;\n",
              "      width: 32px;\n",
              "    }\n",
              "\n",
              "    .colab-df-convert:hover {\n",
              "      background-color: #E2EBFA;\n",
              "      box-shadow: 0px 1px 2px rgba(60, 64, 67, 0.3), 0px 1px 3px 1px rgba(60, 64, 67, 0.15);\n",
              "      fill: #174EA6;\n",
              "    }\n",
              "\n",
              "    .colab-df-buttons div {\n",
              "      margin-bottom: 4px;\n",
              "    }\n",
              "\n",
              "    [theme=dark] .colab-df-convert {\n",
              "      background-color: #3B4455;\n",
              "      fill: #D2E3FC;\n",
              "    }\n",
              "\n",
              "    [theme=dark] .colab-df-convert:hover {\n",
              "      background-color: #434B5C;\n",
              "      box-shadow: 0px 1px 3px 1px rgba(0, 0, 0, 0.15);\n",
              "      filter: drop-shadow(0px 1px 2px rgba(0, 0, 0, 0.3));\n",
              "      fill: #FFFFFF;\n",
              "    }\n",
              "  </style>\n",
              "\n",
              "    <script>\n",
              "      const buttonEl =\n",
              "        document.querySelector('#df-1e621c8e-4048-4d24-be8f-5f4dc0471faa button.colab-df-convert');\n",
              "      buttonEl.style.display =\n",
              "        google.colab.kernel.accessAllowed ? 'block' : 'none';\n",
              "\n",
              "      async function convertToInteractive(key) {\n",
              "        const element = document.querySelector('#df-1e621c8e-4048-4d24-be8f-5f4dc0471faa');\n",
              "        const dataTable =\n",
              "          await google.colab.kernel.invokeFunction('convertToInteractive',\n",
              "                                                    [key], {});\n",
              "        if (!dataTable) return;\n",
              "\n",
              "        const docLinkHtml = 'Like what you see? Visit the ' +\n",
              "          '<a target=\"_blank\" href=https://colab.research.google.com/notebooks/data_table.ipynb>data table notebook</a>'\n",
              "          + ' to learn more about interactive tables.';\n",
              "        element.innerHTML = '';\n",
              "        dataTable['output_type'] = 'display_data';\n",
              "        await google.colab.output.renderOutput(dataTable, element);\n",
              "        const docLink = document.createElement('div');\n",
              "        docLink.innerHTML = docLinkHtml;\n",
              "        element.appendChild(docLink);\n",
              "      }\n",
              "    </script>\n",
              "  </div>\n",
              "\n",
              "\n",
              "<div id=\"df-2a665ca7-5cc6-4440-9f67-52bb9c356cd2\">\n",
              "  <button class=\"colab-df-quickchart\" onclick=\"quickchart('df-2a665ca7-5cc6-4440-9f67-52bb9c356cd2')\"\n",
              "            title=\"Suggest charts\"\n",
              "            style=\"display:none;\">\n",
              "\n",
              "<svg xmlns=\"http://www.w3.org/2000/svg\" height=\"24px\"viewBox=\"0 0 24 24\"\n",
              "     width=\"24px\">\n",
              "    <g>\n",
              "        <path d=\"M19 3H5c-1.1 0-2 .9-2 2v14c0 1.1.9 2 2 2h14c1.1 0 2-.9 2-2V5c0-1.1-.9-2-2-2zM9 17H7v-7h2v7zm4 0h-2V7h2v10zm4 0h-2v-4h2v4z\"/>\n",
              "    </g>\n",
              "</svg>\n",
              "  </button>\n",
              "\n",
              "<style>\n",
              "  .colab-df-quickchart {\n",
              "      --bg-color: #E8F0FE;\n",
              "      --fill-color: #1967D2;\n",
              "      --hover-bg-color: #E2EBFA;\n",
              "      --hover-fill-color: #174EA6;\n",
              "      --disabled-fill-color: #AAA;\n",
              "      --disabled-bg-color: #DDD;\n",
              "  }\n",
              "\n",
              "  [theme=dark] .colab-df-quickchart {\n",
              "      --bg-color: #3B4455;\n",
              "      --fill-color: #D2E3FC;\n",
              "      --hover-bg-color: #434B5C;\n",
              "      --hover-fill-color: #FFFFFF;\n",
              "      --disabled-bg-color: #3B4455;\n",
              "      --disabled-fill-color: #666;\n",
              "  }\n",
              "\n",
              "  .colab-df-quickchart {\n",
              "    background-color: var(--bg-color);\n",
              "    border: none;\n",
              "    border-radius: 50%;\n",
              "    cursor: pointer;\n",
              "    display: none;\n",
              "    fill: var(--fill-color);\n",
              "    height: 32px;\n",
              "    padding: 0;\n",
              "    width: 32px;\n",
              "  }\n",
              "\n",
              "  .colab-df-quickchart:hover {\n",
              "    background-color: var(--hover-bg-color);\n",
              "    box-shadow: 0 1px 2px rgba(60, 64, 67, 0.3), 0 1px 3px 1px rgba(60, 64, 67, 0.15);\n",
              "    fill: var(--button-hover-fill-color);\n",
              "  }\n",
              "\n",
              "  .colab-df-quickchart-complete:disabled,\n",
              "  .colab-df-quickchart-complete:disabled:hover {\n",
              "    background-color: var(--disabled-bg-color);\n",
              "    fill: var(--disabled-fill-color);\n",
              "    box-shadow: none;\n",
              "  }\n",
              "\n",
              "  .colab-df-spinner {\n",
              "    border: 2px solid var(--fill-color);\n",
              "    border-color: transparent;\n",
              "    border-bottom-color: var(--fill-color);\n",
              "    animation:\n",
              "      spin 1s steps(1) infinite;\n",
              "  }\n",
              "\n",
              "  @keyframes spin {\n",
              "    0% {\n",
              "      border-color: transparent;\n",
              "      border-bottom-color: var(--fill-color);\n",
              "      border-left-color: var(--fill-color);\n",
              "    }\n",
              "    20% {\n",
              "      border-color: transparent;\n",
              "      border-left-color: var(--fill-color);\n",
              "      border-top-color: var(--fill-color);\n",
              "    }\n",
              "    30% {\n",
              "      border-color: transparent;\n",
              "      border-left-color: var(--fill-color);\n",
              "      border-top-color: var(--fill-color);\n",
              "      border-right-color: var(--fill-color);\n",
              "    }\n",
              "    40% {\n",
              "      border-color: transparent;\n",
              "      border-right-color: var(--fill-color);\n",
              "      border-top-color: var(--fill-color);\n",
              "    }\n",
              "    60% {\n",
              "      border-color: transparent;\n",
              "      border-right-color: var(--fill-color);\n",
              "    }\n",
              "    80% {\n",
              "      border-color: transparent;\n",
              "      border-right-color: var(--fill-color);\n",
              "      border-bottom-color: var(--fill-color);\n",
              "    }\n",
              "    90% {\n",
              "      border-color: transparent;\n",
              "      border-bottom-color: var(--fill-color);\n",
              "    }\n",
              "  }\n",
              "</style>\n",
              "\n",
              "  <script>\n",
              "    async function quickchart(key) {\n",
              "      const quickchartButtonEl =\n",
              "        document.querySelector('#' + key + ' button');\n",
              "      quickchartButtonEl.disabled = true;  // To prevent multiple clicks.\n",
              "      quickchartButtonEl.classList.add('colab-df-spinner');\n",
              "      try {\n",
              "        const charts = await google.colab.kernel.invokeFunction(\n",
              "            'suggestCharts', [key], {});\n",
              "      } catch (error) {\n",
              "        console.error('Error during call to suggestCharts:', error);\n",
              "      }\n",
              "      quickchartButtonEl.classList.remove('colab-df-spinner');\n",
              "      quickchartButtonEl.classList.add('colab-df-quickchart-complete');\n",
              "    }\n",
              "    (() => {\n",
              "      let quickchartButtonEl =\n",
              "        document.querySelector('#df-2a665ca7-5cc6-4440-9f67-52bb9c356cd2 button');\n",
              "      quickchartButtonEl.style.display =\n",
              "        google.colab.kernel.accessAllowed ? 'block' : 'none';\n",
              "    })();\n",
              "  </script>\n",
              "</div>\n",
              "\n",
              "    </div>\n",
              "  </div>\n"
            ],
            "application/vnd.google.colaboratory.intrinsic+json": {
              "type": "dataframe",
              "summary": "{\n  \"name\": \"gstor_winz\",\n  \"rows\": 5,\n  \"fields\": [\n    {\n      \"column\": \"Sales\",\n      \"properties\": {\n        \"dtype\": \"number\",\n        \"std\": 0.44564163177469507,\n        \"min\": -0.11259787994207021,\n        \"max\": 1.0,\n        \"num_unique_values\": 5,\n        \"samples\": [\n          0.48777313858113913,\n          0.35833949364984025,\n          0.8897859828568628\n        ],\n        \"semantic_type\": \"\",\n        \"description\": \"\"\n      }\n    },\n    {\n      \"column\": \"Profit\",\n      \"properties\": {\n        \"dtype\": \"number\",\n        \"std\": 0.575547649850185,\n        \"min\": -0.5750814551206895,\n        \"max\": 1.0,\n        \"num_unique_values\": 5,\n        \"samples\": [\n          1.0,\n          0.18330766189849923,\n          0.44385645452613787\n        ],\n        \"semantic_type\": \"\",\n        \"description\": \"\"\n      }\n    },\n    {\n      \"column\": \"Shipping Cost\",\n      \"properties\": {\n        \"dtype\": \"number\",\n        \"std\": 0.4466664521073367,\n        \"min\": -0.10330798369918277,\n        \"max\": 1.0,\n        \"num_unique_values\": 5,\n        \"samples\": [\n          0.44385645452613787,\n          0.32779720562602305,\n          1.0\n        ],\n        \"semantic_type\": \"\",\n        \"description\": \"\"\n      }\n    },\n    {\n      \"column\": \"Discount\",\n      \"properties\": {\n        \"dtype\": \"number\",\n        \"std\": 0.5800773998979013,\n        \"min\": -0.5750814551206895,\n        \"max\": 1.0,\n        \"num_unique_values\": 5,\n        \"samples\": [\n          -0.5750814551206895,\n          -0.007026175077915553,\n          -0.10330798369918277\n        ],\n        \"semantic_type\": \"\",\n        \"description\": \"\"\n      }\n    },\n    {\n      \"column\": \"Quantity\",\n      \"properties\": {\n        \"dtype\": \"number\",\n        \"std\": 0.37940379768520277,\n        \"min\": -0.007026175077915553,\n        \"max\": 1.0,\n        \"num_unique_values\": 5,\n        \"samples\": [\n          0.18330766189849923,\n          1.0,\n          0.32779720562602305\n        ],\n        \"semantic_type\": \"\",\n        \"description\": \"\"\n      }\n    }\n  ]\n}"
            }
          },
          "metadata": {},
          "execution_count": 76
        }
      ]
    },
    {
      "cell_type": "code",
      "source": [
        "# rearranging the new dataset like original one\n",
        "gstor_winz=gstor_winz.reindex_like(gstor_num)"
      ],
      "metadata": {
        "id": "q-phn-lXj1t3"
      },
      "execution_count": null,
      "outputs": []
    },
    {
      "cell_type": "code",
      "source": [
        "# converting it to chart for more clear visual\n",
        "fig, ax=plt.subplots(ncols=2, figsize=(12,3) )\n",
        "#plt.figure(figsize=(10,7))\n",
        "sns.heatmap(gstor_num.corr(), annot=True, ax=ax[0])\n",
        "sns.heatmap(gstor_winz.corr(), annot=True, ax=ax[1])\n",
        "plt.show()"
      ],
      "metadata": {
        "colab": {
          "base_uri": "https://localhost:8080/",
          "height": 297
        },
        "id": "CA8orDy_fecv",
        "outputId": "74ba25dc-023e-45ce-df8c-5943d7ef6850"
      },
      "execution_count": null,
      "outputs": [
        {
          "output_type": "display_data",
          "data": {
            "text/plain": [
              "<Figure size 1200x300 with 4 Axes>"
            ],
            "image/png": "[encoded data removed]"
          },
          "metadata": {}
        }
      ]
    },
    {
      "cell_type": "markdown",
      "source": [
        "As we can see that the winsorized data also have much better correlation coefficient in values. The data now looks clean & ready to analyze."
      ],
      "metadata": {
        "id": "3OvrKTUckACt"
      }
    },
    {
      "cell_type": "code",
      "source": [],
      "metadata": {
        "id": "9Hy9bbFJfnhm"
      },
      "execution_count": null,
      "outputs": []
    }
  ],
  "metadata": {
    "colab": {
      "gpuType": "T4",
      "provenance": [],
      "authorship_tag": "ABX9TyPJuJDYCfKt+18RMLV8Iv5E",
      "include_colab_link": true
    },
    "kernelspec": {
      "display_name": "Python 3",
      "name": "python3"
    },
    "language_info": {
      "name": "python"
    }
  },
  "nbformat": 4,
  "nbformat_minor": 0
}